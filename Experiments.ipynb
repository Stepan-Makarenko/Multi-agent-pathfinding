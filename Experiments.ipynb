{
  "nbformat": 4,
  "nbformat_minor": 0,
  "metadata": {
    "kernelspec": {
      "display_name": "Python 3",
      "language": "python",
      "name": "python3"
    },
    "language_info": {
      "codemirror_mode": {
        "name": "ipython",
        "version": 3
      },
      "file_extension": ".py",
      "mimetype": "text/x-python",
      "name": "python",
      "nbconvert_exporter": "python",
      "pygments_lexer": "ipython3",
      "version": "3.5.2"
    },
    "colab": {
      "name": "Experiments.ipynb",
      "provenance": [],
      "collapsed_sections": []
    }
  },
  "cells": [
    {
      "cell_type": "code",
      "metadata": {
        "id": "X0JM0rYwZhMu"
      },
      "source": [
        "from tqdm.notebook import tqdm\n",
        "from agent import Agent\n",
        "from high_level_policy import HCBS\n",
        "from map_handler import Map, read_map, read_tasks\n",
        "from node import GridNode\n",
        "import random\n",
        "import glob\n",
        "import os\n",
        "import numpy as np\n",
        "from low_level_policy import manhattan_distance, diagonal_distance\n",
        "import tqdm\n",
        "import matplotlib.pyplot as plt\n",
        "import pickle\n",
        "np.random.seed(42)\n",
        "random.seed(42)"
      ],
      "execution_count": null,
      "outputs": []
    },
    {
      "cell_type": "code",
      "metadata": {
        "id": "_ALbKasm8mD2"
      },
      "source": [
        "K = [2,4,8,12,16]"
      ],
      "execution_count": null,
      "outputs": []
    },
    {
      "cell_type": "code",
      "metadata": {
        "id": "dm4XdfP38i73"
      },
      "source": [
        "def simple_test(SearchFunction, height, width, mapstr, agents, diagonal_movements=False, **kwargs):\n",
        "    task_map = Map()\n",
        "    task_map.read_from_string(mapstr, width, height, diagonal_movements=diagonal_movements)\n",
        "    return SearchFunction(task_map, agents, **kwargs)"
      ],
      "execution_count": null,
      "outputs": []
    },
    {
      "cell_type": "code",
      "metadata": {
        "id": "7EDDS58S8iMm"
      },
      "source": [
        "%matplotlib inline\n",
        "from IPython.display import clear_output\n",
        "def massive_test(SearchFunction, map_dir, scen_dir, numbers_of_agents, title, diagonal_movements=False, **kwargs):\n",
        "    results = {}\n",
        "    map_files = glob.glob(os.path.join(map_dir, '*.map'))\n",
        "    succ_rate = []\n",
        "    for k in numbers_of_agents:\n",
        "        results[k] = {}\n",
        "        results[k]['success'] = []\n",
        "        results[k]['ctnodes_created'] = []\n",
        "        results[k]['time'] = []\n",
        "        for map_file in map_files:\n",
        "            mapstr = read_map(map_file)\n",
        "            filename = os.path.basename(map_file).replace('.map', '.scen')\n",
        "            scen_path = os.path.join(scen_dir, filename)\n",
        "            if k==16:\n",
        "                tasks = read_tasks(scen_path, skip_first=False)[:k]\n",
        "            else:\n",
        "                tasks = read_tasks(scen_path)[:k]\n",
        "            Agent.id = 0\n",
        "            agents=[]\n",
        "            for i in range(k):\n",
        "                bucket, path, map_width, map_height, jStart, iStart, jGoal, iGoal, length = tasks[i]\n",
        "                agents += [Agent(iStart, jStart, iGoal, jGoal)]\n",
        "            sol = simple_test(SearchFunction, int(map_height), int(map_width), mapstr,\n",
        "                                           agents, diagonal_movements=diagonal_movements, **kwargs)  \n",
        "            if sol:\n",
        "                results[k]['success'] += [True]\n",
        "                results[k]['ctnodes_created'] += [sol[0]]\n",
        "                results[k]['time'] += [sol[1]]\n",
        "            else:\n",
        "                results[k]['success'] += [False]\n",
        "                results[k]['ctnodes_created'] += [np.nan]\n",
        "                results[k]['time'] += [np.nan]\n",
        "            # clear_output(True)\n",
        "            # print(map_file, k)\n",
        "            # rate = plt.scatter(numbers_of_agents[:len(succ_rate)], succ_rate, marker='x')\n",
        "            # plt.title(\"Success rate; {}\".format(title))\n",
        "            # plt.show()\n",
        "            a_file = open(\"no_pc_{}_{}.pkl\".format(k, filename.replace('.','')), \"wb\")\n",
        "            pickle.dump(results, a_file)\n",
        "            a_file.close()\n",
        "        a_file = open(\"no_pc_{}.pkl\".format(k), \"wb\")\n",
        "        pickle.dump(results, a_file)\n",
        "        a_file.close()\n",
        "        succ_rate+=[np.nanmean(results[k]['success'])]\n",
        "        # clear_output(True)\n",
        "        # print('all tasks done')\n",
        "        # rate = plt.scatter(numbers_of_agents[:len(succ_rate)], succ_rate, marker='x')\n",
        "        # plt.title(\"Success rate; {}\".format(title))\n",
        "        # plt.show()\n",
        "    return results, succ_rate"
      ],
      "execution_count": null,
      "outputs": []
    },
    {
      "cell_type": "code",
      "metadata": {
        "id": "R5pumzsH8_UT"
      },
      "source": [
        "r = massive_test(HCBS, 'generated_map', 'generated_scen', K, \"CBS\", diagonal_movements=False,\n",
        "                 heuristic_function=manhattan_distance, \n",
        "                 use_pc=False,\n",
        "                 experiment_mode=True, max_time=300, verbose=True)\n",
        "a_file = open(\"no_pc.pkl\", \"wb\")\n",
        "pickle.dump(r, a_file)\n",
        "a_file.close()"
      ],
      "execution_count": null,
      "outputs": []
    },
    {
      "cell_type": "code",
      "metadata": {
        "id": "3yBDWEk98_6J"
      },
      "source": [
        "r = massive_test(HCBS, 'generated_map', 'generated_scen', K, \"CBS+PC\", diagonal_movements=False,\n",
        "                 heuristic_function=manhattan_distance, \n",
        "                 use_pc=True,\n",
        "                 experiment_mode=True, max_time=300, verbose=True)\n",
        "a_file = open(\"pc.pkl\", \"wb\")\n",
        "pickle.dump(r, a_file)\n",
        "a_file.close()"
      ],
      "execution_count": null,
      "outputs": []
    },
    {
      "cell_type": "code",
      "metadata": {
        "id": "MRgXRRQqZhNA"
      },
      "source": [
        "with open(\"pc_16.pkl\", \"rb\") as input_file:\n",
        "    pc = pickle.load(input_file)"
      ],
      "execution_count": null,
      "outputs": []
    },
    {
      "cell_type": "code",
      "metadata": {
        "id": "dujamd02ZhNB"
      },
      "source": [
        "with open(\"no_pc_16.pkl\", \"rb\") as input_file:\n",
        "    cbs = pickle.load(input_file)"
      ],
      "execution_count": null,
      "outputs": []
    },
    {
      "cell_type": "code",
      "metadata": {
        "id": "Pp5eQSVOZhNB"
      },
      "source": [
        "def generate_final_results(agent_values, cbs, pc):\n",
        "    both_succeeded = {}\n",
        "    for k in agent_values:\n",
        "        both_succeeded[k] = np.array(pc[k]['success']) & np.array(cbs[k]['success'])\n",
        "    cbs_pc_nodes={}\n",
        "    cbs_pc_time={}\n",
        "    cbs_nodes={}\n",
        "    cbs_time={}\n",
        "    for k in agent_values:\n",
        "        cbs_pc_nodes[k] = np.mean(np.array(pc[k]['ctnodes_created'])[both_succeeded[k]])\n",
        "        cbs_pc_time[k] = np.mean(np.array(pc[k]['time'])[both_succeeded[k]])\n",
        "        cbs_nodes[k] = np.mean(np.array(cbs[k]['ctnodes_created'])[both_succeeded[k]])\n",
        "        cbs_time[k] = np.mean(np.array(cbs[k]['time'])[both_succeeded[k]])\n",
        "    return cbs_time, cbs_pc_time, cbs_nodes, cbs_pc_nodes\n",
        "    "
      ],
      "execution_count": null,
      "outputs": []
    },
    {
      "cell_type": "code",
      "metadata": {
        "id": "EdWG-3vmZhNC"
      },
      "source": [
        "cbs_time, cbs_pc_time, cbs_nodes, cbs_pc_nodes = generate_final_results([2,4,8,12,16], cbs, pc)"
      ],
      "execution_count": null,
      "outputs": []
    },
    {
      "cell_type": "code",
      "metadata": {
        "colab": {
          "base_uri": "https://localhost:8080/",
          "height": 204
        },
        "id": "jHeLG-4-ZhND",
        "outputId": "debf800c-6ca4-405c-f75a-56335d6d8981"
      },
      "source": [
        "import pandas as pd\n",
        "df = pd.DataFrame(pd.Series(cbs_time))\n",
        "for d in [cbs_pc_time, cbs_nodes, cbs_pc_nodes]:\n",
        "    df = pd.concat([df, pd.DataFrame(pd.Series(d))], axis=1)\n",
        "df.columns = ['Время, с (CBC)', 'Время, с (CBC+PC)', 'CTNodes (CBS)', 'CTNodes (CBS+PC)']\n",
        "df"
      ],
      "execution_count": null,
      "outputs": [
        {
          "output_type": "execute_result",
          "data": {
            "text/html": [
              "<div>\n",
              "<style scoped>\n",
              "    .dataframe tbody tr th:only-of-type {\n",
              "        vertical-align: middle;\n",
              "    }\n",
              "\n",
              "    .dataframe tbody tr th {\n",
              "        vertical-align: top;\n",
              "    }\n",
              "\n",
              "    .dataframe thead th {\n",
              "        text-align: right;\n",
              "    }\n",
              "</style>\n",
              "<table border=\"1\" class=\"dataframe\">\n",
              "  <thead>\n",
              "    <tr style=\"text-align: right;\">\n",
              "      <th></th>\n",
              "      <th>Время, с (CBC)</th>\n",
              "      <th>Время, с (CBC+PC)</th>\n",
              "      <th>CTNodes (CBS)</th>\n",
              "      <th>CTNodes (CBS+PC)</th>\n",
              "    </tr>\n",
              "  </thead>\n",
              "  <tbody>\n",
              "    <tr>\n",
              "      <th>2</th>\n",
              "      <td>0.001437</td>\n",
              "      <td>0.002621</td>\n",
              "      <td>1.900000</td>\n",
              "      <td>1.900000</td>\n",
              "    </tr>\n",
              "    <tr>\n",
              "      <th>4</th>\n",
              "      <td>0.007425</td>\n",
              "      <td>0.011000</td>\n",
              "      <td>6.800000</td>\n",
              "      <td>5.560000</td>\n",
              "    </tr>\n",
              "    <tr>\n",
              "      <th>8</th>\n",
              "      <td>3.085565</td>\n",
              "      <td>0.243648</td>\n",
              "      <td>2193.938776</td>\n",
              "      <td>93.612245</td>\n",
              "    </tr>\n",
              "    <tr>\n",
              "      <th>12</th>\n",
              "      <td>20.321756</td>\n",
              "      <td>1.345496</td>\n",
              "      <td>13922.614286</td>\n",
              "      <td>504.785714</td>\n",
              "    </tr>\n",
              "    <tr>\n",
              "      <th>16</th>\n",
              "      <td>79.022291</td>\n",
              "      <td>11.631259</td>\n",
              "      <td>69603.206897</td>\n",
              "      <td>3230.827586</td>\n",
              "    </tr>\n",
              "  </tbody>\n",
              "</table>\n",
              "</div>"
            ],
            "text/plain": [
              "    Время, с (CBC)  Время, с (CBC+PC)  CTNodes (CBS)  CTNodes (CBS+PC)\n",
              "2         0.001437           0.002621       1.900000          1.900000\n",
              "4         0.007425           0.011000       6.800000          5.560000\n",
              "8         3.085565           0.243648    2193.938776         93.612245\n",
              "12       20.321756           1.345496   13922.614286        504.785714\n",
              "16       79.022291          11.631259   69603.206897       3230.827586"
            ]
          },
          "metadata": {
            "tags": []
          },
          "execution_count": 25
        }
      ]
    },
    {
      "cell_type": "code",
      "metadata": {
        "id": "AJDUCnRibBtr"
      },
      "source": [
        "cbs_s=[]\n",
        "pc_s=[]\n",
        "for k in [2,4,8,12,16]:\n",
        "    cbs_s+=[np.mean(cbs[k]['success'])]\n",
        "    pc_s+=[np.mean(pc[k]['success'])]"
      ],
      "execution_count": null,
      "outputs": []
    },
    {
      "cell_type": "code",
      "metadata": {
        "colab": {
          "base_uri": "https://localhost:8080/",
          "height": 295
        },
        "id": "s0F7mNs5ZhNF",
        "outputId": "1264467d-0439-4d3f-8f36-bec17ee4e509"
      },
      "source": [
        "cbs_plot = plt.scatter([2,6,8,12,16], cbs_s, marker='x')\n",
        "pc_plot = plt.scatter([2,6,8,12,16], pc_s, marker='o')\n",
        "# plt.plot([2,6,8,12,16], cbs_s)\n",
        "# plt.plot([2,6,8,12,16], pc_s)\n",
        "plt.title(\"Success rate\")\n",
        "plt.grid()\n",
        "plt.xlabel('Number of agents')\n",
        "plt.ylabel('Success rate, %')\n",
        "# plt.yticks(np.arange(0, 1.05, 0.05))\n",
        "plt.legend((cbs_plot, pc_plot), ('CBS','CBS+PC'), scatterpoints=1, ncol=3, fontsize=8)\n",
        "plt.show()"
      ],
      "execution_count": null,
      "outputs": [
        {
          "output_type": "display_data",
          "data": {
            "image/png": "[encoded data removed]",
            "text/plain": [
              "<Figure size 432x288 with 1 Axes>"
            ]
          },
          "metadata": {
            "tags": [],
            "needs_background": "light"
          }
        }
      ]
    }
  ]
}