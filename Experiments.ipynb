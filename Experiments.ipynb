{
 "cells": [
  {
   "cell_type": "code",
   "execution_count": 1,
   "metadata": {},
   "outputs": [],
   "source": [
    "from tqdm.notebook import tqdm\n",
    "from agent import Agent\n",
    "from high_level_policy import HCBS\n",
    "from map_handler import Map, read_map, read_tasks\n",
    "from node import GridNode\n",
    "import random\n",
    "import glob\n",
    "import os\n",
    "import numpy as np\n",
    "from low_level_policy import manhattan_distance, diagonal_distance\n",
    "import tqdm\n",
    "import matplotlib.pyplot as plt\n",
    "np.random.seed(42)\n",
    "random.seed(42)"
   ]
  },
  {
   "cell_type": "code",
   "execution_count": 2,
   "metadata": {},
   "outputs": [],
   "source": [
    "A = read_tasks('output.scen')\n",
    "N = 100"
   ]
  },
  {
   "cell_type": "code",
   "execution_count": 3,
   "metadata": {},
   "outputs": [],
   "source": [
    "def simple_test(SearchFunction, height, width, mapstr, agents, diagonal_movements=False, **kwargs):\n",
    "    task_map = Map()\n",
    "    task_map.read_from_string(mapstr, width, height, diagonal_movements=diagonal_movements)\n",
    "    return SearchFunction(task_map, agents, **kwargs)"
   ]
  },
  {
   "cell_type": "code",
   "execution_count": 4,
   "metadata": {},
   "outputs": [],
   "source": [
    "def generate_sets_of_k(k, n_sets, filename):\n",
    "    l = [ta for ta in A if filename in ta]\n",
    "    result = set()\n",
    "    while len(result) < n_sets:\n",
    "        t = tuple(sorted(np.random.choice(range(len(l)), k, replace=False)))\n",
    "        if t not in result:\n",
    "            result.add(t)\n",
    "    tasks = []\n",
    "    for r in result:\n",
    "        tasks += [[l[i] for i in r]]\n",
    "    return tasks"
   ]
  },
  {
   "cell_type": "code",
   "execution_count": 5,
   "metadata": {},
   "outputs": [],
   "source": [
    "%matplotlib inline\n",
    "from IPython.display import clear_output\n",
    "def massive_test(SearchFunction, map_dir, numbers_of_agents, title,diagonal_movements=False, **kwargs):\n",
    "    results = {}\n",
    "    map_files = glob.glob(os.path.join(map_dir, '*.map'))\n",
    "    succ_rate = []\n",
    "    for k in numbers_of_agents:\n",
    "        results[k] = {}\n",
    "        results[k]['success'] = []\n",
    "        results[k]['ctnodes_created'] = []\n",
    "        results[k]['time'] = []\n",
    "        for map_file in map_files:\n",
    "            mapstr = read_map(map_file)\n",
    "            filename = os.path.basename(map_file)\n",
    "            tasks = generate_sets_of_k(k, N, filename)\n",
    "\n",
    "            for idx, task in enumerate(tasks):\n",
    "                Agent.id = 0\n",
    "                agents=[]\n",
    "                for i in range(k):\n",
    "                    bucket, path, map_width, map_height, jStart, iStart, jGoal, iGoal, length = task[i]\n",
    "                    agents += [Agent(iStart, jStart, iGoal, jGoal)]\n",
    "                sol = simple_test(SearchFunction, map_height, map_width, mapstr,\n",
    "                                           agents, diagonal_movements=diagonal_movements, **kwargs)\n",
    "                \n",
    "                if sol:\n",
    "                    results[k]['success'] += [True]\n",
    "                    results[k]['ctnodes_created'] += [sol[0]]\n",
    "                    results[k]['time'] += [sol[1]]\n",
    "                else:\n",
    "                    results[k]['success'] += [False]\n",
    "                    results[k]['ctnodes_created'] += [np.nan]\n",
    "                    results[k]['time'] += [np.nan]\n",
    "#                 clear_output(True)\n",
    "#                 print('{}; {}/{}; k={}'.format(os.path.basename(map_file),\n",
    "                                             \n",
    "#                                              idx, N ,k))\n",
    "#                 rate = plt.scatter(numbers_of_agents[:len(succ_rate)], succ_rate, marker='x')\n",
    "#                 plt.title(\"Success rate; {}\".format(title))\n",
    "#                 plt.show()\n",
    "        succ_rate+=[np.nanmean(results[k]['success'])]\n",
    "#         clear_output(True)\n",
    "#         print('all tasks done')\n",
    "#         rate = plt.scatter(numbers_of_agents[:len(succ_rate)], succ_rate, marker='x')\n",
    "#         plt.title(\"Success rate; {}\".format(title))\n",
    "#         plt.show()\n",
    "        #plt.legend(rate,'1', scatterpoints=1, ncol=3, fontsize=8)\n",
    "    return results, succ_rate"
   ]
  },
  {
   "cell_type": "code",
   "execution_count": null,
   "metadata": {},
   "outputs": [],
   "source": [
    "r = massive_test(HCBS, 'mapf-map-empty',  [2,4,8,12,16], \"CBS+PC\", diagonal_movements=False, \n",
    "                 heuristic_function=manhattan_distance, \n",
    "                 use_pc=True,\n",
    "                 experiment_mode=True, max_time=300, verbose=False)\n",
    "import pickle \n",
    "\n",
    "a_file = open(\"pc_8x8_empty.pkl\", \"wb\")\n",
    "pickle.dump(r, a_file)\n",
    "a_file.close()"
   ]
  },
  {
   "cell_type": "code",
   "execution_count": null,
   "metadata": {},
   "outputs": [],
   "source": [
    "r = massive_test(HCBS, 'mapf-map-empty', [2,4,8,12,16], \"CBS\", diagonal_movements=False, \n",
    "                 heuristic_function=manhattan_distance, \n",
    "                 use_pc=False,\n",
    "                 experiment_mode=True, max_time=300, verbose=False)\n",
    "import pickle \n",
    "\n",
    "a_file = open(\"no_pc_8x8_empty.pkl\", \"wb\")\n",
    "pickle.dump(r, a_file)\n",
    "a_file.close()"
   ]
  },
  {
   "cell_type": "code",
   "execution_count": 9,
   "metadata": {},
   "outputs": [],
   "source": [
    "r = massive_test(HCBS, 'mapf_map-room', [2,4,8,12,16], \"CBS+PC\", diagonal_movements=False,\n",
    "                 heuristic_function=manhattan_distance, \n",
    "                 use_pc=True,\n",
    "                 experiment_mode=True, max_time=300, verbose=False)\n",
    "import pickle \n",
    "\n",
    "a_file = open(\"pc.pkl\", \"wb\")\n",
    "pickle.dump(r, a_file)\n",
    "a_file.close()"
   ]
  },
  {
   "cell_type": "code",
   "execution_count": 10,
   "metadata": {},
   "outputs": [],
   "source": [
    "r1 = massive_test(HCBS, 'mapf_map-room', [2,4,8,12,16], \"CBS\", diagonal_movements=False,\n",
    "                 heuristic_function=manhattan_distance, \n",
    "                 use_pc=False,\n",
    "                 experiment_mode=True, max_time=300, verbose=False)\n",
    "\n",
    "\n",
    "a_file = open(\"no_pc.pkl\", \"wb\")\n",
    "pickle.dump(r1, a_file)\n",
    "a_file.close()"
   ]
  },
  {
   "cell_type": "code",
   "execution_count": 12,
   "metadata": {},
   "outputs": [],
   "source": [
    "with open(\"pc.pkl\", \"rb\") as input_file:\n",
    "    pc = pickle.load(input_file)"
   ]
  },
  {
   "cell_type": "code",
   "execution_count": 14,
   "metadata": {},
   "outputs": [],
   "source": [
    "with open(\"no_pc.pkl\", \"rb\") as input_file:\n",
    "    cbs = pickle.load(input_file)"
   ]
  },
  {
   "cell_type": "code",
   "execution_count": 56,
   "metadata": {},
   "outputs": [],
   "source": [
    "def generate_final_results(agent_values, cbs, pc):\n",
    "    both_succeeded = {}\n",
    "    for k in agent_values:\n",
    "        both_succeeded[k] = np.array(pc[0][k]['success']) & np.array(cbs[0][k]['success'])\n",
    "    cbs_pc_nodes={}\n",
    "    cbs_pc_time={}\n",
    "    cbs_nodes={}\n",
    "    cbs_time={}\n",
    "    for k in agent_values:\n",
    "        cbs_pc_nodes[k] = np.mean(np.array(pc[0][k]['ctnodes_created'])[both_succeeded[k]])\n",
    "        cbs_pc_time[k] = np.mean(np.array(pc[0][k]['time'])[both_succeeded[k]])\n",
    "        cbs_nodes[k] = np.mean(np.array(cbs[0][k]['ctnodes_created'])[both_succeeded[k]])\n",
    "        cbs_time[k] = np.mean(np.array(cbs[0][k]['time'])[both_succeeded[k]])\n",
    "    return cbs_time, cbs_pc_time, cbs_nodes, cbs_pc_nodes, cbs[1], pc[1]\n",
    "    "
   ]
  },
  {
   "cell_type": "code",
   "execution_count": 57,
   "metadata": {},
   "outputs": [],
   "source": [
    "cbs_time, cbs_pc_time, cbs_nodes, cbs_pc_nodes, cbs_s, pc_s = generate_final_results([2,4,8,12,16], cbs, pc)"
   ]
  },
  {
   "cell_type": "code",
   "execution_count": 58,
   "metadata": {},
   "outputs": [
    {
     "data": {
      "text/html": [
       "<div>\n",
       "<style scoped>\n",
       "    .dataframe tbody tr th:only-of-type {\n",
       "        vertical-align: middle;\n",
       "    }\n",
       "\n",
       "    .dataframe tbody tr th {\n",
       "        vertical-align: top;\n",
       "    }\n",
       "\n",
       "    .dataframe thead th {\n",
       "        text-align: right;\n",
       "    }\n",
       "</style>\n",
       "<table border=\"1\" class=\"dataframe\">\n",
       "  <thead>\n",
       "    <tr style=\"text-align: right;\">\n",
       "      <th></th>\n",
       "      <th>Время, с (CBC)</th>\n",
       "      <th>Время, с (CBC+PC)</th>\n",
       "      <th>CTNodes (CBS)</th>\n",
       "      <th>CTNodes (CBS+PC)</th>\n",
       "    </tr>\n",
       "  </thead>\n",
       "  <tbody>\n",
       "    <tr>\n",
       "      <th>2</th>\n",
       "      <td>0.038587</td>\n",
       "      <td>0.047440</td>\n",
       "      <td>1.440000</td>\n",
       "      <td>1.440000</td>\n",
       "    </tr>\n",
       "    <tr>\n",
       "      <th>4</th>\n",
       "      <td>1.289318</td>\n",
       "      <td>0.636122</td>\n",
       "      <td>6.414141</td>\n",
       "      <td>3.484848</td>\n",
       "    </tr>\n",
       "    <tr>\n",
       "      <th>8</th>\n",
       "      <td>2.362520</td>\n",
       "      <td>2.004964</td>\n",
       "      <td>53.888889</td>\n",
       "      <td>18.088889</td>\n",
       "    </tr>\n",
       "    <tr>\n",
       "      <th>12</th>\n",
       "      <td>19.550481</td>\n",
       "      <td>15.655129</td>\n",
       "      <td>263.782609</td>\n",
       "      <td>103.188406</td>\n",
       "    </tr>\n",
       "    <tr>\n",
       "      <th>16</th>\n",
       "      <td>50.341116</td>\n",
       "      <td>30.231400</td>\n",
       "      <td>1233.125000</td>\n",
       "      <td>251.093750</td>\n",
       "    </tr>\n",
       "  </tbody>\n",
       "</table>\n",
       "</div>"
      ],
      "text/plain": [
       "    Время, с (CBC)  Время, с (CBC+PC)  CTNodes (CBS)  CTNodes (CBS+PC)\n",
       "2         0.038587           0.047440       1.440000          1.440000\n",
       "4         1.289318           0.636122       6.414141          3.484848\n",
       "8         2.362520           2.004964      53.888889         18.088889\n",
       "12       19.550481          15.655129     263.782609        103.188406\n",
       "16       50.341116          30.231400    1233.125000        251.093750"
      ]
     },
     "execution_count": 58,
     "metadata": {},
     "output_type": "execute_result"
    }
   ],
   "source": [
    "import pandas as pd\n",
    "df = pd.DataFrame(pd.Series(cbs_time))\n",
    "for d in [cbs_pc_time, cbs_nodes, cbs_pc_nodes]:\n",
    "    df = pd.concat([df, pd.DataFrame(pd.Series(d))], axis=1)\n",
    "df.columns = ['Время, с (CBC)', 'Время, с (CBC+PC)', 'CTNodes (CBS)', 'CTNodes (CBS+PC)']\n",
    "df"
   ]
  },
  {
   "cell_type": "code",
   "execution_count": 62,
   "metadata": {},
   "outputs": [
    {
     "data": {
      "image/png": "[encoded data removed]",
      "text/plain": [
       "<Figure size 432x288 with 1 Axes>"
      ]
     },
     "metadata": {
      "needs_background": "light"
     },
     "output_type": "display_data"
    }
   ],
   "source": [
    "cbs_plot = plt.scatter([2,6,8,12,16], cbs_s, marker='x')\n",
    "pc_plot = plt.scatter([2,6,8,12,16], pc_s, marker='o')\n",
    "plt.title(\"Success rate\")\n",
    "plt.grid()\n",
    "plt.xlabel('Number of agents')\n",
    "plt.ylabel('Success rate, %')\n",
    "plt.legend((cbs_plot, pc_plot), ('CBS','CBS+PC'), scatterpoints=1, ncol=3, fontsize=8)\n",
    "plt.show()"
   ]
  },
  {
   "cell_type": "code",
   "execution_count": 64,
   "metadata": {},
   "outputs": [
    {
     "name": "stderr",
     "output_type": "stream",
     "text": [
      "/Library/Frameworks/Python.framework/Versions/3.5/lib/python3.5/site-packages/numpy/core/fromnumeric.py:3257: RuntimeWarning: Mean of empty slice.\n",
      "  out=out, **kwargs)\n",
      "/Library/Frameworks/Python.framework/Versions/3.5/lib/python3.5/site-packages/numpy/core/_methods.py:161: RuntimeWarning: invalid value encountered in double_scalars\n",
      "  ret = ret.dtype.type(ret / rcount)\n"
     ]
    },
    {
     "data": {
      "text/html": [
       "<div>\n",
       "<style scoped>\n",
       "    .dataframe tbody tr th:only-of-type {\n",
       "        vertical-align: middle;\n",
       "    }\n",
       "\n",
       "    .dataframe tbody tr th {\n",
       "        vertical-align: top;\n",
       "    }\n",
       "\n",
       "    .dataframe thead th {\n",
       "        text-align: right;\n",
       "    }\n",
       "</style>\n",
       "<table border=\"1\" class=\"dataframe\">\n",
       "  <thead>\n",
       "    <tr style=\"text-align: right;\">\n",
       "      <th></th>\n",
       "      <th>Время, с (CBC)</th>\n",
       "      <th>Время, с (CBC+PC)</th>\n",
       "      <th>CTNodes (CBS)</th>\n",
       "      <th>CTNodes (CBS+PC)</th>\n",
       "    </tr>\n",
       "  </thead>\n",
       "  <tbody>\n",
       "    <tr>\n",
       "      <th>2</th>\n",
       "      <td>0.000108</td>\n",
       "      <td>0.000141</td>\n",
       "      <td>1.081633</td>\n",
       "      <td>1.081633</td>\n",
       "    </tr>\n",
       "    <tr>\n",
       "      <th>4</th>\n",
       "      <td>0.005890</td>\n",
       "      <td>0.010502</td>\n",
       "      <td>8.000000</td>\n",
       "      <td>8.000000</td>\n",
       "    </tr>\n",
       "    <tr>\n",
       "      <th>8</th>\n",
       "      <td>0.005761</td>\n",
       "      <td>0.010414</td>\n",
       "      <td>9.454545</td>\n",
       "      <td>9.636364</td>\n",
       "    </tr>\n",
       "    <tr>\n",
       "      <th>12</th>\n",
       "      <td>0.012853</td>\n",
       "      <td>0.023692</td>\n",
       "      <td>19.000000</td>\n",
       "      <td>19.000000</td>\n",
       "    </tr>\n",
       "    <tr>\n",
       "      <th>16</th>\n",
       "      <td>NaN</td>\n",
       "      <td>NaN</td>\n",
       "      <td>NaN</td>\n",
       "      <td>NaN</td>\n",
       "    </tr>\n",
       "  </tbody>\n",
       "</table>\n",
       "</div>"
      ],
      "text/plain": [
       "    Время, с (CBC)  Время, с (CBC+PC)  CTNodes (CBS)  CTNodes (CBS+PC)\n",
       "2         0.000108           0.000141       1.081633          1.081633\n",
       "4         0.005890           0.010502       8.000000          8.000000\n",
       "8         0.005761           0.010414       9.454545          9.636364\n",
       "12        0.012853           0.023692      19.000000         19.000000\n",
       "16             NaN                NaN            NaN               NaN"
      ]
     },
     "execution_count": 64,
     "metadata": {},
     "output_type": "execute_result"
    }
   ],
   "source": [
    "with open(\"pc_8x8_empty.pkl\", \"rb\") as input_file:\n",
    "    pc = pickle.load(input_file)\n",
    "with open(\"no_pc_8x8_empty.pkl\", \"rb\") as input_file:\n",
    "    cbs = pickle.load(input_file)\n",
    "cbs_time, cbs_pc_time, cbs_nodes, cbs_pc_nodes, cbs_s, pc_s = generate_final_results([2,4,8,12,16], cbs, pc)\n",
    "\n",
    "df = pd.DataFrame(pd.Series(cbs_time))\n",
    "for d in [cbs_pc_time, cbs_nodes, cbs_pc_nodes]:\n",
    "    df = pd.concat([df, pd.DataFrame(pd.Series(d))], axis=1)\n",
    "df.columns = ['Время, с (CBC)', 'Время, с (CBC+PC)', 'CTNodes (CBS)', 'CTNodes (CBS+PC)']\n",
    "df\n"
   ]
  },
  {
   "cell_type": "code",
   "execution_count": 65,
   "metadata": {},
   "outputs": [
    {
     "data": {
      "image/png": "[encoded data removed]",
      "text/plain": [
       "<Figure size 432x288 with 1 Axes>"
      ]
     },
     "metadata": {
      "needs_background": "light"
     },
     "output_type": "display_data"
    }
   ],
   "source": [
    "cbs_plot = plt.scatter([2,6,8,12,16], cbs_s, marker='x')\n",
    "pc_plot = plt.scatter([2,6,8,12,16], pc_s, marker='o')\n",
    "plt.title(\"Success rate\")\n",
    "plt.grid()\n",
    "plt.xlabel('Number of agents')\n",
    "plt.ylabel('Success rate, %')\n",
    "plt.legend((cbs_plot, pc_plot), ('CBS','CBS+PC'), scatterpoints=1, ncol=3, fontsize=8)\n",
    "plt.show()"
   ]
  }
 ],
 "metadata": {
  "kernelspec": {
   "display_name": "Python 3",
   "language": "python",
   "name": "python3"
  },
  "language_info": {
   "codemirror_mode": {
    "name": "ipython",
    "version": 3
   },
   "file_extension": ".py",
   "mimetype": "text/x-python",
   "name": "python",
   "nbconvert_exporter": "python",
   "pygments_lexer": "ipython3",
   "version": "3.5.2"
  }
 },
 "nbformat": 4,
 "nbformat_minor": 2
}
