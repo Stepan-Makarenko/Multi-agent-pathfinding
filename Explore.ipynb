{
 "cells": [
  {
   "cell_type": "code",
   "execution_count": 1,
   "metadata": {},
   "outputs": [],
   "source": [
    "import numpy as np\n",
    "from tqdm.notebook import tqdm\n",
    "import matplotlib.pyplot as plt\n",
    "from PIL import Image, ImageDraw\n",
    "from matplotlib import animation\n",
    "from IPython.display import HTML"
   ]
  },
  {
   "cell_type": "code",
   "execution_count": 2,
   "metadata": {},
   "outputs": [],
   "source": [
    "from agent import Agent\n",
    "from high_level_policy import HCBS\n",
    "from map_handler import Map\n",
    "from node import GridNode"
   ]
  },
  {
   "cell_type": "code",
   "execution_count": 3,
   "metadata": {},
   "outputs": [],
   "source": [
    "height = 15\n",
    "width = 30\n",
    "mapstr = '''\n",
    "# . . # \n",
    ". . . .  \n",
    ". . . . \n",
    "# . . # \n",
    "'''\n",
    "agent1 = Agent(0, 1, 3, 2)\n",
    "agent2 = Agent(1, 0, 2, 3)\n"
   ]
  },
  {
   "cell_type": "code",
   "execution_count": 8,
   "metadata": {},
   "outputs": [],
   "source": [
    "def draw(grid_map, agents=None, solution=None, nodesExpanded=None, nodesOpened=None):\n",
    "    \n",
    "    if solution is not None:\n",
    "        fig = plt.figure()\n",
    "        images = []\n",
    "        # Assign different collor for different agents:\n",
    "        collors = [tuple(np.random.randint(0, 255, 3)) for i in range(len(agents))]\n",
    "        for t in range(max(map(lambda x: len(x[0]), solution.values()))):\n",
    "            k = 5\n",
    "            hIm = grid_map.height * k\n",
    "            wIm = grid_map.width * k\n",
    "            im = Image.new('RGB', (wIm, hIm), color = 'white')\n",
    "            draw = ImageDraw.Draw(im)\n",
    "\n",
    "            for i in range(grid_map.height):\n",
    "                for j in range(grid_map.width):\n",
    "                    if(grid_map.cells[i][j] == 1):\n",
    "                        draw.rectangle((j * k, i * k, (j + 1) * k - 1, (i + 1) * k - 1), fill=( 70, 80, 80 ))\n",
    "\n",
    "            for i, (path, length) in enumerate(solution.values()):\n",
    "                step = path[min(t, len(path) - 1)]\n",
    "                if (grid_map.traversable(step.i, step.j)):\n",
    "                    draw.rectangle((step.j * k, step.i * k, (step.j + 1) * k - 1, (step.i + 1) * k - 1), fill=collors[i], width=0)\n",
    "                else:\n",
    "                    draw.rectangle((step.j * k, step.i * k, (step.j + 1) * k - 1, (step.i + 1) * k - 1), fill=(230, 126, 34), width=0)\n",
    "\n",
    "            for i, agent in enumerate(agents):\n",
    "                start = GridNode(agent.start_i, agent.start_j)\n",
    "                goal = GridNode(agent.goal_i, agent.goal_j)\n",
    "                if (start is not None) and (grid_map.traversable(start.i, start.j)):\n",
    "                    draw.rectangle((start.j * k + 1, start.i * k + 1, (start.j + 1) * k - 2, (start.i + 1) * k - 2), fill=collors[i], width=0)\n",
    "\n",
    "                if (goal is not None) and (grid_map.traversable(goal.i, goal.j)):\n",
    "                    draw.rectangle((goal.j * k + 1, goal.i * k + 1, (goal.j + 1) * k - 2, (goal.i + 1) * k - 2), fill=collors[i], width=0)\n",
    "            \n",
    "#             fig, ax = plt.subplots(dpi=150)\n",
    "#             ax.axes.xaxis.set_visible(False)\n",
    "#             ax.axes.yaxis.set_visible(False)\n",
    "#             plt.imshow(im, animated=True)\n",
    "            img = plt.imshow(im, animated=True)\n",
    "#             print(img)\n",
    "            images.append([img])\n",
    "        ani = animation.ArtistAnimation(fig, images, interval=400, blit=True, repeat_delay=100)\n",
    "        HTML(ani.to_html5_video())\n",
    "        print(\"Solution was found, cost = \", sum([el[1] for el in solution.values()]))\n",
    "        return ani\n",
    "    else:\n",
    "        k = 5\n",
    "        hIm = grid_map.height * k\n",
    "        wIm = grid_map.width * k\n",
    "        im = Image.new('RGB', (wIm, hIm), color = 'white')\n",
    "        draw = ImageDraw.Draw(im)\n",
    "\n",
    "        for i in range(grid_map.height):\n",
    "            for j in range(grid_map.width):\n",
    "                if(grid_map.cells[i][j] == 1):\n",
    "                    draw.rectangle((j * k, i * k, (j + 1) * k - 1, (i + 1) * k - 1), fill=( 70, 80, 80 ))\n",
    "        \n",
    "        for agent in agents:\n",
    "            start = GridNode(agent.start_i, agent.start_j)\n",
    "            goal = GridNode(agent.goal_i, agent.goal_j)\n",
    "            if (start is not None) and (grid_map.traversable(start.i, start.j)):\n",
    "                draw.rectangle((start.j * k, start.i * k, (start.j + 1) * k - 1, (start.i + 1) * k - 1), fill=(40, 180, 99), width=0)\n",
    "\n",
    "            if (goal is not None) and (grid_map.traversable(goal.i, goal.j)):\n",
    "                draw.rectangle((goal.j * k, goal.i * k, (goal.j + 1) * k - 1, (goal.i + 1) * k - 1), fill=(231, 76, 60), width=0)\n",
    "\n",
    "        fig, ax = plt.subplots(dpi=150)\n",
    "        ax.axes.xaxis.set_visible(False)\n",
    "        ax.axes.yaxis.set_visible(False)\n",
    "        plt.imshow(np.asarray(im))"
   ]
  },
  {
   "cell_type": "code",
   "execution_count": 9,
   "metadata": {},
   "outputs": [
    {
     "data": {
      "image/png": "[encoded data removed]",
      "text/plain": [
       "<Figure size 900x600 with 1 Axes>"
      ]
     },
     "metadata": {
      "needs_background": "light"
     },
     "output_type": "display_data"
    }
   ],
   "source": [
    "test_map = Map()\n",
    "test_map.read_from_string(mapstr, 4, 4)\n",
    "draw(test_map, [agent1, agent2])"
   ]
  },
  {
   "cell_type": "code",
   "execution_count": 10,
   "metadata": {},
   "outputs": [],
   "source": [
    "def SimpleTest(SearchFunction, height, width, mapstr, agents, **kwargs):\n",
    "    task_map = Map()\n",
    "    task_map.read_from_string(mapstr, width, height, diagonal_movements=False)\n",
    "\n",
    "    solution = SearchFunction(task_map, agents, **kwargs)\n",
    "    anim = draw(task_map, [agent1, agent2], solution)\n",
    "    return anim\n",
    "#         if result[0]:\n",
    "#             path = MakePath(result[1])\n",
    "#             correct = abs(path[1] - pathLen) < EPS\n",
    "#             print(\"Path found! Length: \" + str(path[1]) + \". Nodes created: \" + str(nodesCreated) + \". Number of steps: \" + str(numSteps) + \". Optimal: \" + str(correct))\n",
    "#         else:\n",
    "#             print(\"Path not found!\")\n",
    "#     except Exception as e:\n",
    "#         print(\"Execution error\")\n",
    "#         print(e)"
   ]
  },
  {
   "cell_type": "code",
   "execution_count": 11,
   "metadata": {},
   "outputs": [
    {
     "name": "stdout",
     "output_type": "stream",
     "text": [
      "Solution was found, cost =  9\n"
     ]
    },
    {
     "data": {
      "image/png": "[encoded data removed]",
      "text/plain": [
       "<Figure size 432x288 with 1 Axes>"
      ]
     },
     "metadata": {
      "needs_background": "light"
     },
     "output_type": "display_data"
    }
   ],
   "source": [
    "from low_level_policy import manhattan_distance\n",
    "\n",
    "anim = SimpleTest(HCBS, 4, 4, mapstr, [agent1, agent2], heuristic_function=manhattan_distance)"
   ]
  },
  {
   "cell_type": "code",
   "execution_count": 12,
   "metadata": {},
   "outputs": [
    {
     "data": {
      "text/html": [
       "<video width=\"432\" height=\"288\" controls autoplay loop>\n",
       "  <source type=\"video/mp4\" src=\"data:video/mp4;base64,AAAAIGZ0eXBNNFYgAAACAE00ViBpc29taXNvMmF2YzEAAAAIZnJlZQAAFgJtZGF0AAACnwYF//+b\n",
       "3EXpvebZSLeWLNgg2SPu73gyNjQgLSBjb3JlIDE2MSAtIEguMjY0L01QRUctNCBBVkMgY29kZWMg\n",
       "LSBDb3B5bGVmdCAyMDAzLTIwMjAgLSBodHRwOi8vd3d3LnZpZGVvbGFuLm9yZy94MjY0Lmh0bWwg\n",
       "LSBvcHRpb25zOiBjYWJhYz0xIHJlZj0zIGRlYmxvY2s9MTowOjAgYW5hbHlzZT0weDM6MHgxMTMg\n",
       "bWU9aGV4IHN1Ym1lPTcgcHN5PTEgcHN5X3JkPTEuMDA6MC4wMCBtaXhlZF9yZWY9MSBtZV9yYW5n\n",
       "ZT0xNiBjaHJvbWFfbWU9MSB0cmVsbGlzPTEgOHg4ZGN0PTEgY3FtPTAgZGVhZHpvbmU9MjEsMTEg\n",
       "ZmFzdF9wc2tpcD0xIGNocm9tYV9xcF9vZmZzZXQ9LTIgdGhyZWFkcz05IGxvb2thaGVhZF90aHJl\n",
       "YWRzPTEgc2xpY2VkX3RocmVhZHM9MCBucj0wIGRlY2ltYXRlPTEgaW50ZXJsYWNlZD0wIGJsdXJh\n",
       "eV9jb21wYXQ9MCBjb25zdHJhaW5lZF9pbnRyYT0wIGJmcmFtZXM9MyBiX3B5cmFtaWQ9MiBiX2Fk\n",
       "YXB0PTEgYl9iaWFzPTAgZGlyZWN0PTEgd2VpZ2h0Yj0xIG9wZW5fZ29wPTAgd2VpZ2h0cD0yIGtl\n",
       "eWludD0yNTAga2V5aW50X21pbj0yIHNjZW5lY3V0PTQwIGludHJhX3JlZnJlc2g9MCByY19sb29r\n",
       "YWhlYWQ9NDAgcmM9Y3JmIG1idHJlZT0xIGNyZj0yMy4wIHFjb21wPTAuNjAgcXBtaW49MCBxcG1h\n",
       "eD02OSBxcHN0ZXA9NCBpcF9yYXRpbz0xLjQwIGFxPTE6MS4wMACAAAALAWWIhAAU//73x0/Apuj5\n",
       "ZsudRT0hMIrY+kgovVjs0DJ1AAADAABEwMcRbV3LjwHmAABhLSv3FJYtA4ACLADH/AcHIqvhh3lK\n",
       "prTqn07jGkCu/x5wzIwsMMUhmzsVZrNbFk2Ik3/hccDGJST9RZsTWgKcE7xOYOsilMQRx55/C4WF\n",
       "cioiPwygiTloSHVVm5phIqgH6FBGuqfAgGitrrYj+LGDahA4PlXIdNI485VDh4UY7De2wodb8LWC\n",
       "paSn0aibYQRFg1Lev/m0P7/nEgvKcDSHINxC3Bv6Q15f2VStgt7u4iw++MccAoBzzIv7mjP19eW1\n",
       "OSMiZAsDz1ygzEaeI6s5ttBTFPlxlG7YXKKuI1f5XDm/8D9vTLFeT1zfn+zY5u+grqLm8qYUByB/\n",
       "lcmpIp/oj3+ea6sYv7QayODklnDRV0/MXZCmHRjaQjul7n26DcFTFPffUyPrVHWxFn9OOBXD/fnj\n",
       "M/zNTuYQY37Eehhn5O28tGjL1qOLL5eHJ+dtsI4/tnqhlhuGi+j3CZY0I+zLnYUU1NOhGUiJYguK\n",
       "3FAQsZ1P14Xd/YzQvwM++WfBDnT+XZzsmYGfgzpYTF3+3hy4A82GCFj8BIdbq8FS4VlXCK5dMFCg\n",
       "ZxlqpYnw2Bpd9nIvJq+2cPKtUFXNjmELkqskRGhaD5yYRA21VB4W/nsgZYzRAjDcum87odGtV0/P\n",
       "QVaDfK0ppvsiakYDdEpdhpSKJpiXy+dDdZJuh98hYiEKVW9yW7YhmL2V8BgbIcLGDeuv++pb4VlP\n",
       "zsGsMflkffOxRFZAffzoxuAl2Uu+s2gBY2Coh6qP+QsdXqjpfHm27ozWL4AMRPiQdYL7vTKe7AzJ\n",
       "czVq/i+XKdBOjlCaeHcMxpjQ9gPzMA6nx8/9proINF3NnwU2f3aaOj9JDKzSlWh7OkkCuvllSwUE\n",
       "taymxh2iuUVArOwG/DjcE60hLAjJpQpoXnuCoEKZa0VDR8QEXH9sGhi91ruxx5LQq6YVztWB5zH9\n",
       "L89pFbqDME/t5lG9ETh+ZD+1wDD+kD1kxbMpaS3LbQjAdryfcbIKnOuOVLlYXSI3kPKT/pJHT69B\n",
       "zoAShAhf/lk3w8/vvJdSip4Wu9YkaPwz0wS5mbqQqHnU7hof3Jx/+LQO9j9FNKJoqZvgVETomjTe\n",
       "SHRi3wyB86HkoaGpFIMdc7PHjIw4Fdcxcww2bmbNG4we/gBufv7ZkWvPJjXL3/rQsLHXOvsZjZqI\n",
       "SGGTFPbscEl9DHuybdYn34axWRFDRP2MsGq/XVfcdnQ5k84Me4RJlgS/jpEZ2gKQv9jD+uRFhCMt\n",
       "YmLXBT15i34O8sXznjXt/dQZwg7i0hyiejd0Sr7hWKurYYLGPe/FgjIc2GzTvzXQEQoejbTUEjs0\n",
       "GwzbxJMU7B8Lylx18e/P0XyckOlYDA2eiLaBRPsqZ5DkMJvvcjbROTAyInUC/Ra5BvofCJnFXh//\n",
       "kKoztE+9GZZ+UGsdsQjmU6X4rX5gEt5+LaemAuX6qKg6lfJVURTAOrh9lM4p4SO3EHqJBI9GAaxH\n",
       "bWyIJzGrEBEjGOdTyEbRFv4wnvdk3xtXYqmLnfql59rE/HTGyVUENseCDaSJykyuyE6PhjuB799R\n",
       "6oWYTBqZH+LpHG/cuFKleBOsT9WboIqUQLo7HNsIkpPDjyjPp6Akl9pH+BaMpEWq3g0ZIekgaBVh\n",
       "mkMi1M6gAzwyG4gA3rKsiXylxdErGxPIUPrunOAsZ694UHjy6aIIqxeZfPujg8y9WBhBWagUPP9q\n",
       "YFafJzuHNRRBoTkvaom6spXua84ZGRoOTC/DI6bbBN2RofYD8fjYIgHV+upqJh0yKsse/ZU2hLVY\n",
       "FLazyDJiuVxhU8fkCxshDWh16IwgxUfF0eVKAAPvV4VmuedODUi9qfRoM1pTuzeSnSs8qrC+0yA5\n",
       "hUkesFlZGqFZM8PEkYHVNHYyNsI3Eci7blxD49XK3RI+Q/Qib+WbM4G8I3ldh2SXoDJcwOC812Tr\n",
       "dikJvOfeEXli4fvj6gpnUgcjd45/cDnJjZ5rmRVxGQapDXBEpowoGoNMWkiLtpMoGTQzy5oan+rV\n",
       "MPu34f3CeeRJiXKA2wpiVun9ToWo7anKIzWFemEOIDWzt0opHgyXfl2e0xKpenI/LumILVZEovel\n",
       "/YoDTMSuGCBv2Ano90nxdrjDeDWW96nGoIahrsgTrMrW3U9mV23Pl96qpvW10rYNrbSa6ZFRqPtP\n",
       "+o6RHwCHPZfjNTemMGxqY61K5H1YJk2YPdYTHtqKjAFuw6atFeCdeT8YPKdccLWjezKLNvoyabuM\n",
       "4n5qiZ94LI8l9rW/nEATPLHRERrU5Dxfen4lFmsR5oDIBIel3XtXiyMS4ZrCSTK7HsgoWb4ipdU6\n",
       "BaY1T/oOi+aXCeI8tjxexZUJH5WJ+RBf9qj/9q3Z20TAwpqoyB59qFcSJsndEdbPQu0DH7nPsaFn\n",
       "l0g+73+tCZ0rbSXq7Ob0/z6f3lw88mNVjawxaBtCwDKCdh0Ar+RAKK5FZZUp77CIbycEKHdCX0Ou\n",
       "bUR4DZt0ZqHe5YP//t6Zl2cmUoZDkUh47dkR/ndr5j1vpyusPwn3cfDcdcy9t2epAAFwyQbC7NIF\n",
       "2xN4sFn9NgSIzb5z44upwiLsaNN8QeMwbktziYhHJtkZNVU7lgRmVOWJ1waATqqTMekP+v979TG2\n",
       "HnU4g9I+Zl1KlnZ/+LC1dZoT/5PTlP+O/yWMmf0AAdHZlY1f0lyr8KRuZrRAPQnvv/EGsPZwO30w\n",
       "oq1IemAXWzfhi+H34HshO+QPk64n0eOGLgzlNYPWHFcvMJ70l9m5z19Sai4D/G1cIKpdyd8iEB+C\n",
       "yHxBzslAMW0yOnantZtVQRPvB/oA2mEU0YvhM+F0YhE+j3CgDTuT8JfR0FMWa7ZhZ+sV1pGa6Slr\n",
       "SyqgSZpEXUAFMsIyk4hw5wxrQo49UoW15UndF3EueDmC0yT8UnSkIL8g1BTczH58cPQjFA10AXJC\n",
       "pO31o1HHZQo3Bq9agilz2dARUCmDRpYRqTfdDqZWTZptZ94RR3T4xSkBeUlnuLx+aMFeieSBdnsL\n",
       "eH8vYsM9ybFgV0sTFzVLfUjawZTkf051HBabDOvsXsc68pLhT4urSmlvsmtqogzItH//QDMYGUaP\n",
       "IJOEN8xVqDq8o3uc48VtCOEdVkKGSNn8Hx0Z5KdyaDoXR4TvDvcyHJo5oauRcg25P6ryDhr2H4sz\n",
       "trNH/1ZqoOk2YLecdVDem1MPcYEfjVK6WOQTACwEuI+IQUbcA04QHFHXdll/bv3vn+X4KauRx1+9\n",
       "MUoCwDp96mXfbdJT1zpNlIxVIq8svueXnt7GemJy/RHhrVu2xR0RQENlZyHdZ4u7uLWMUv2gxOwe\n",
       "3rE3Py5MRlCRxkhZTfEiLRhLRusXcWmIKO/Xla14xciygO4UI5cvQ9SHNjAwNRYG7jBfNc3LqfAs\n",
       "eWFEv2qYvBWf5jIjd5a2AJh5rVHwVmEHQUSrdC9cNtpK+DHpjLqU+kVcxzsH/qhhFn6dqYucrlHs\n",
       "EhNznOlMT9zKhOFt5VV12knFebdqesgTaIFKLl4RCElz1hK6utcGpXmhbnkU2cpYmIwY7g/S/7Ip\n",
       "K4nog92eh7ZgM035XjluRltjR80rtMXQ9a/t9hHOU/CdPsc2kwriMdmuVvaE/DEBsU0bp5F73Nhw\n",
       "w0CXafMiWTRBscoFGqhnVEUyR+d6wxx+M9NCGg9WqcL/70vfDr1Xdfteg4R1Q0l95bNKKpPweC8f\n",
       "/3qIIArXpfQoIQAAAvpBmiJsQU/+1oywBp66f8ELGXgAnNft9mULt9//P+A3MUTUHi2TN5Sh7DbO\n",
       "4m9XtadC0VHQqp6Z/ljbrfEevOq1jtRvYZ2U69O3/MnKVDEf6x7ha74uQRwkI4jR/XmR9sfTzAmH\n",
       "I9evUvGflFxatwDgSTHL2wKiVnUMTAw9Zi1A4JsjEGCgDZd8yYomWlWlxNahyibeRTHv6uZ36kF4\n",
       "IH5W/HalERJ69xQssKBkpoKo8tZBUkz3rZqayTtwDfxdWX4kBmY/W4aCZ897wa5wFkQxP7i5bhBD\n",
       "H3iTKLW50eEt394zwesEuQcWu6KB4RPt/3RzXlWvYRA/I5SEXJ7cGnINETEwYs0AHxkj0XCSLeuY\n",
       "E/rE2qJrw554GiNLAz9LVZsjWPQeSGLHh9UjixTsAP1E473NY+uqpxU70tMXS9wyd38ILsICkF9n\n",
       "vs3SFwbJI3fEGOHhDuffLXqvq3lHc4SGGSMw6cxx8Z+ZUyPt+y1NvJVb369oeQEP8PX1Yg+ekPEa\n",
       "ShHKl4FKmkcGnz63PNtIQlnOl0fC0iQoOinmy8FrSnuo3pHnXUlVOeMLscH/DRbVqM7flkMWsONI\n",
       "ZpV9/NmaYWJSlzsbe0UjAGvSqrnqeYxEGpkIhY5foqBc8zyXsA/QlHgn4ZX3qPAXK1hk8eZNbdpm\n",
       "4yykR5xvc5Gy1KyalW/ePAWVlrYh1HlbkbdFFFDvaV11qPIqtSLpAnfH5KNg2ye6ZfqHl43hBMlO\n",
       "RGi6Jnk/RUNq2JMJnB/VZO5mI+BjCKf/rqQZX7qonJiDxEnefZOFBBETfmJpNtx3HWkA+b4BcrN+\n",
       "qfXcSa3KMSFbY7bcgz9pBxRjKGbAlAXGp5PZfrGxD6iJzlwMvxBX6Wpw0UGESuhERmt3KzS6yOw0\n",
       "za9jHslu5JPinKZfFgDxpIT7k4d1OzeELEdjBWuAneLJ5x+8ERWMuFJD381L3oVo7Ft08IgwwUQk\n",
       "X8oEcYyzWsmc55J1sx/BPd4z5tOoyUmy4iGmoaBD14/1DcAAAAGmAZ5BeQS/AAvymKcYUYAQ8Dhe\n",
       "uMeNKbJOG1DSP9fhH14S8s0iNJAmj+bzJWzP4fsixDzgevRBDoUB7EARI/18WxJPRlrHqsNYMgB6\n",
       "sSqJE1PqKa3+0gK+TeXbLhOZKk5tp/rFb9nUHQ52ZuBZFpMgKhMmH1QEL6gVGmmswtyogFgVvhx2\n",
       "47J3t3mirfr1vqH6IyDxRqWosavLkUvDQltfCCvR+mpUkjObFLgi6zz6xBDlhMaCWtXj47QDArwu\n",
       "5CPQ1lJ3VtSBS+iZhEVqTbaqVeTp1+WRuJuJtoxQJRTqmIvVJg2DGabhHMTgzhZjMN55OvrpAiSl\n",
       "XNMUW9LRhH1UPBWiPo2yEcI+by6HYZQWGGvt7Nb0PLeaGr29T7e4Twd7szXaPte5JPdNN+LxPqk+\n",
       "qH33+FJlssgE/rRN17kwL1W8HMDq+cojFOZlgSZo2D2asW2Q34hX3m5XeFIRg4GE07i9MwRbX/v7\n",
       "LnvgDb09i4Ruu46slrPMuNeY8xpQfRD/g4auXPq6HywuO7lpuQYRPVGP7uzAmo20RumuELLyfRgt\n",
       "gR1TKokAAAFHQZpDPCGTKYQT//61KoAYXjwQALdbvk5kW7pjdWE3buGCXMp8QP3SW3WEO9/OeNnF\n",
       "47VhCjFk4Xf35/5UNE8KL3IWE3e5vmhuMabXzSlhzVfC6sgiLW686V1u90C07diTSiP6dsoj9Yqr\n",
       "wW+dkKyeWnFUBoFjn6MjcvqxcgdhlDDs7f8huP8rTXsiIZdxF7+whVsIFLK2kCN+0iLPob568dG7\n",
       "7Rx3uVfh6sJf3Xm2RzxnR5+a+za3JTkUBVx40HF4Mqix5dqc+9OJD8JNFEkckEp5yMdP1/bCgCSb\n",
       "7lkyHIcvjNEg6tmwIvP3VQJzpcQWtKUaqCUlcFLngpChcAjw4HDvUDeQsch06EymCCvng1QjM/Hk\n",
       "PWagpYZoDREJPiW+xUlQzcozkd+mYvfpJH4qeQ1exSu4xDYw5x9cN/L9Y0ewQ22JFhvAAAABUEGa\n",
       "ZEnhDyZTAgn//rUqgBevecwcVQAXSI/odASP8mfpThfPalcn+ECOTTRPxNES+m8np2VZrLeoP0On\n",
       "N5LGs7Fwy95DJUkTEyeFXQPp0Hx19VX6R+sas+lqRfODcZdvMWDABGLWe//L0MIfdSrlq13onrCv\n",
       "1OxKs3mRUwX7f/ubrMd1BD3jQ7cx/X+gPGANhbSoA7gg1piIAWFyhvYWb4s0huFvBVhVYTZ/wFE4\n",
       "4oqfFyzdyv4Rd4XGA/3r+HBsHS6/lbRuKIyfv0NUqd1l0RKCn5VBnkbtJFvwGcoIPAIAdkomeURl\n",
       "7lX5TYais1/ZRHWzYyM+rtzr1ztU1fIdNLEpt6Go/eGVf9D1TqWS4koR0y0+B30w888kQLcYCuw9\n",
       "HpWt93bKpB4oFjGjlkrbAGe2sDtkevG7nUsOXyQJZpv9feXvoyPkYmessUAPy2TkPQAAAQdBmoVJ\n",
       "4Q8mUwIJf/61KoABlvmTvX0YcQe4ctYMJ68r566JJ/u1CD2VHuYACdjcEzzJdH7zSEUgxO0Gotz6\n",
       "UjmYfFCySTB9b2QExYJ6eRphQfrQKQzI8ukYhEBSH5pfjeRCuiuffFRfnOl+AwhmCWvQmB4vVIA7\n",
       "VUGyjHibbk1h6YbFU83C34BP3ajh57WTcNtn1qyIS2+B1ulfmwgpSlpv9HWd5b2XuViMGK4ADqXV\n",
       "fFsy5UHlX7VOLL3fXQVC0S5HEIkH3rN3f+6VSbIR/ud3vRQdYHl4iydIdp+dcQuoSI7Om3SmjXtF\n",
       "36PIFmBLqzRphkdQuqt7xvkHd4AQQfvB3w9L+fgvTQAAA2ptb292AAAAbG12aGQAAAAAAAAAAAAA\n",
       "AAAAAAPoAAAJYAABAAABAAAAAAAAAAAAAAAAAQAAAAAAAAAAAAAAAAAAAAEAAAAAAAAAAAAAAAAA\n",
       "AEAAAAAAAAAAAAAAAAAAAAAAAAAAAAAAAAAAAAAAAAACAAAClHRyYWsAAABcdGtoZAAAAAMAAAAA\n",
       "AAAAAAAAAAEAAAAAAAAJYAAAAAAAAAAAAAAAAAAAAAAAAQAAAAAAAAAAAAAAAAAAAAEAAAAAAAAA\n",
       "AAAAAAAAAEAAAAABsAAAASAAAAAAACRlZHRzAAAAHGVsc3QAAAAAAAAAAQAACWAAACAAAAEAAAAA\n",
       "AgxtZGlhAAAAIG1kaGQAAAAAAAAAAAAAAAAAACgAAABgAFXEAAAAAAAtaGRscgAAAAAAAAAAdmlk\n",
       "ZQAAAAAAAAAAAAAAAFZpZGVvSGFuZGxlcgAAAAG3bWluZgAAABR2bWhkAAAAAQAAAAAAAAAAAAAA\n",
       "JGRpbmYAAAAcZHJlZgAAAAAAAAABAAAADHVybCAAAAABAAABd3N0YmwAAAC3c3RzZAAAAAAAAAAB\n",
       "AAAAp2F2YzEAAAAAAAAAAQAAAAAAAAAAAAAAAAAAAAABsAEgAEgAAABIAAAAAAAAAAEAAAAAAAAA\n",
       "AAAAAAAAAAAAAAAAAAAAAAAAAAAAAAAAAAAY//8AAAA1YXZjQwFkABX/4QAYZ2QAFazZQbCWhAAA\n",
       "AwAIAAADACg8WLZYAQAGaOvjyyLA/fj4AAAAABx1dWlka2hA8l8kT8W6OaUbzwMj8wAAAAAAAAAY\n",
       "c3R0cwAAAAAAAAABAAAABgAAEAAAAAAUc3RzcwAAAAAAAAABAAAAAQAAADBjdHRzAAAAAAAAAAQA\n",
       "AAABAAAgAAAAAAEAADAAAAAAAQAAEAAAAAADAAAgAAAAABxzdHNjAAAAAAAAAAEAAAABAAAABgAA\n",
       "AAEAAAAsc3RzegAAAAAAAAAAAAAABgAADagAAAL+AAABqgAAAUsAAAFUAAABCwAAABRzdGNvAAAA\n",
       "AAAAAAEAAAAwAAAAYnVkdGEAAABabWV0YQAAAAAAAAAhaGRscgAAAAAAAAAAbWRpcmFwcGwAAAAA\n",
       "AAAAAAAAAAAtaWxzdAAAACWpdG9vAAAAHWRhdGEAAAABAAAAAExhdmY1OC40NS4xMDA=\n",
       "\">\n",
       "  Your browser does not support the video tag.\n",
       "</video>"
      ],
      "text/plain": [
       "<IPython.core.display.HTML object>"
      ]
     },
     "execution_count": 12,
     "metadata": {},
     "output_type": "execute_result"
    }
   ],
   "source": [
    "HTML(anim.to_html5_video())"
   ]
  }
 ],
 "metadata": {
  "kernelspec": {
   "display_name": "Python 3",
   "language": "python",
   "name": "python3"
  },
  "language_info": {
   "codemirror_mode": {
    "name": "ipython",
    "version": 3
   },
   "file_extension": ".py",
   "mimetype": "text/x-python",
   "name": "python",
   "nbconvert_exporter": "python",
   "pygments_lexer": "ipython3",
   "version": "3.7.6"
  }
 },
 "nbformat": 4,
 "nbformat_minor": 4
}
