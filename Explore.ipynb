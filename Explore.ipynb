{
 "cells": [
  {
   "cell_type": "code",
   "execution_count": 1,
   "metadata": {},
   "outputs": [],
   "source": [
    "from visualization import draw\n",
    "from IPython.display import HTML\n",
    "#from tqdm.notebook import tqdm"
   ]
  },
  {
   "cell_type": "code",
   "execution_count": 2,
   "metadata": {},
   "outputs": [],
   "source": [
    "from agent import Agent\n",
    "from high_level_policy import HCBS\n",
    "from map_handler import Map\n",
    "from node import GridNode"
   ]
  },
  {
   "cell_type": "code",
   "execution_count": 3,
   "metadata": {},
   "outputs": [],
   "source": [
    "height = 15\n",
    "width = 30\n",
    "mapstr = '''\n",
    "# . . # \n",
    ". . . .  \n",
    ". . . . \n",
    "# . . # \n",
    "'''\n",
    "agent1 = Agent(0, 1, 3, 2)\n",
    "agent2 = Agent(1, 0, 2, 3)"
   ]
  },
  {
   "cell_type": "code",
   "execution_count": 4,
   "metadata": {},
   "outputs": [
    {
     "data": {
      "image/png": "[encoded data removed]",
      "text/plain": [
       "<Figure size 900x600 with 1 Axes>"
      ]
     },
     "metadata": {
      "needs_background": "light"
     },
     "output_type": "display_data"
    }
   ],
   "source": [
    "test_map = Map()\n",
    "test_map.read_from_string(mapstr, 4, 4)\n",
    "draw(test_map, [agent1, agent2])"
   ]
  },
  {
   "cell_type": "code",
   "execution_count": 5,
   "metadata": {},
   "outputs": [],
   "source": [
    "def SimpleTest(SearchFunction, height, width, mapstr, agents, **kwargs):\n",
    "    task_map = Map()\n",
    "    task_map.read_from_string(mapstr, width, height, diagonal_movements=False)\n",
    "\n",
    "    solution = SearchFunction(task_map, agents, **kwargs)\n",
    "    anim = draw(task_map, [agent1, agent2], solution)\n",
    "    return anim\n",
    "#         if result[0]:\n",
    "#             path = MakePath(result[1])\n",
    "#             correct = abs(path[1] - pathLen) < EPS\n",
    "#             print(\"Path found! Length: \" + str(path[1]) + \". Nodes created: \" + str(nodesCreated) + \". Number of steps: \" + str(numSteps) + \". Optimal: \" + str(correct))\n",
    "#         else:\n",
    "#             print(\"Path not found!\")\n",
    "#     except Exception as e:\n",
    "#         print(\"Execution error\")\n",
    "#         print(e)"
   ]
  },
  {
   "cell_type": "code",
   "execution_count": 6,
   "metadata": {},
   "outputs": [
    {
     "name": "stdout",
     "output_type": "stream",
     "text": [
      "Solution was found, cost =  9\n"
     ]
    },
    {
     "data": {
      "image/png": "[encoded data removed]",
      "text/plain": [
       "<Figure size 432x288 with 1 Axes>"
      ]
     },
     "metadata": {
      "needs_background": "light"
     },
     "output_type": "display_data"
    }
   ],
   "source": [
    "from low_level_policy import manhattan_distance\n",
    "\n",
    "anim = SimpleTest(HCBS, 4, 4, mapstr, [agent1, agent2], heuristic_function=manhattan_distance)"
   ]
  },
  {
   "cell_type": "code",
   "execution_count": 7,
   "metadata": {},
   "outputs": [
    {
     "data": {
      "text/html": [
       "<video width=\"432\" height=\"288\" controls autoplay loop>\n",
       "  <source type=\"video/mp4\" src=\"data:video/mp4;base64,AAAAHGZ0eXBNNFYgAAACAGlzb21pc28yYXZjMQAAAAhmcmVlAAAWtG1kYXQAAAKtBgX//6ncRem9\n",
       "5tlIt5Ys2CDZI+7veDI2NCAtIGNvcmUgMTU1IHIyOTE3IDBhODRkOTggLSBILjI2NC9NUEVHLTQg\n",
       "QVZDIGNvZGVjIC0gQ29weWxlZnQgMjAwMy0yMDE4IC0gaHR0cDovL3d3dy52aWRlb2xhbi5vcmcv\n",
       "eDI2NC5odG1sIC0gb3B0aW9uczogY2FiYWM9MSByZWY9MyBkZWJsb2NrPTE6MDowIGFuYWx5c2U9\n",
       "MHgzOjB4MTEzIG1lPWhleCBzdWJtZT03IHBzeT0xIHBzeV9yZD0xLjAwOjAuMDAgbWl4ZWRfcmVm\n",
       "PTEgbWVfcmFuZ2U9MTYgY2hyb21hX21lPTEgdHJlbGxpcz0xIDh4OGRjdD0xIGNxbT0wIGRlYWR6\n",
       "b25lPTIxLDExIGZhc3RfcHNraXA9MSBjaHJvbWFfcXBfb2Zmc2V0PS0yIHRocmVhZHM9NiBsb29r\n",
       "YWhlYWRfdGhyZWFkcz0xIHNsaWNlZF90aHJlYWRzPTAgbnI9MCBkZWNpbWF0ZT0xIGludGVybGFj\n",
       "ZWQ9MCBibHVyYXlfY29tcGF0PTAgY29uc3RyYWluZWRfaW50cmE9MCBiZnJhbWVzPTMgYl9weXJh\n",
       "bWlkPTIgYl9hZGFwdD0xIGJfYmlhcz0wIGRpcmVjdD0xIHdlaWdodGI9MSBvcGVuX2dvcD0wIHdl\n",
       "aWdodHA9MiBrZXlpbnQ9MjUwIGtleWludF9taW49MiBzY2VuZWN1dD00MCBpbnRyYV9yZWZyZXNo\n",
       "PTAgcmNfbG9va2FoZWFkPTQwIHJjPWNyZiBtYnRyZWU9MSBjcmY9MjMuMCBxY29tcD0wLjYwIHFw\n",
       "bWluPTAgcXBtYXg9NjkgcXBzdGVwPTQgaXBfcmF0aW89MS40MCBhcT0xOjEuMDAAgAAACzVliIQA\n",
       "FP/+98dPwKbo+WbLnUU9ITCK2PpIKL1Y7NAydQAAAwAARMDHEW1dy48B5gAAYS0r9xSWLQOAAiwA\n",
       "x/wHByKr4Yd5Sqa06p9O4xpArv8d6NkeT+GKWNZ2Ks1mtiybESb/wuOBjEpJ+sE4JrQFRcd4nMHW\n",
       "RSmII488/hcM1ftURH4ZQRJy0JDqqzky2erwB3lslPVPbJC8t11sR/FjBtXW3L1dYdNI485VDh4U\n",
       "URze2wodb8LWCpZ1f0aibYQRFg1Lev/m0P7/nEgvKMDSHINxC3Bv6Q15f2VStgt7u4iw++MccC7U\n",
       "BmYhhlPUF5NdHj0/53O16pi2M3Y03cMMlzQOPVv/G1Eii8qAC44ErkdYl+c/87zHZH+9I3Z2uDV9\n",
       "o6q8nroWIr4cX37WIpDLwarSHVpoDykXd71sCAlsY8ryzX1rN39uhdsQlV7H/grYXvbkg+Rrvsot\n",
       "oHKjLp8mwgFNocT1Cqqdqi2ykp++YDGLKtKd/XdAa/FyBU9XIMXXFYB91mD7gkcfRSmKH4CSUvM/\n",
       "eWYBAvz1CPFEj4W9luyVFEKqR56F5B7H4rcUBCxnVD2RRBFLfVEG7YAFq/7YjO7CehP4/Q1gJjiz\n",
       "3PiWFDldvxdEAoNgK+MlHSvHRbdEUnTW0IjC496Yfn54CZBKtwps2XkGTjvJF4S7S1d5scwU8R7i\n",
       "hAHQIsLzJM3yI3bwqn2xRWB00NlbDjPXZ8nseLUaV3WxmwwE5YjGPVhXUufhv0o5KWmhZBut7VzI\n",
       "WKQPIjYHoSq3uS3bEMxeyvgMDZDhYwb11/31LQ14d1npjlvdEJZfjy3ivUtqCH14Vax2SPlWiG/8\n",
       "54vIFSeWOVIwdCQfObt9A8rnbM/M3zSR6nyX1jretWmhx9/F8uu+acqUhKmWR6bFFywaksJx+fH0\n",
       "AJFJBEzSRlnSoRJPulqS3RaRtl6tFSKoISuv7CGt4FuA69+mGvYNpircSRCZ1VOw+8kJXzeeM3Iy\n",
       "zPnWXXQye5AU8XifUnx0UD2dfreHsmvG4OVJPsvIPfZuii9xgYbmJdUkk5WaZ6SEt7Ii7VYagJGU\n",
       "rWLcZ4+Lp9KrzXj1Nvw3bQHveb48G8CVOnC+6wxtqsOF8qXBRERTDv/UlCuRCyhReA8atUAe6AcH\n",
       "GlzA4S5md2L1gpSDzQ/uTj/8MRdaeHUl3mGHEqVVD5zpldBmHRi31cLHSj57VkIhBFmhRccoG/uO\n",
       "Rfcjg5s8LRbCTLDmgmdU1FrzyEJkierQMbaGzr7GyCRyIXazs/26XgvOlwBATfe+cPsubGhWD82A\n",
       "J1bem1S4mwBzJ5zY5wiTLAl/HSIztAUc5rCM91o8aMCkD5jgsR6oCSBKH85nRYib+6gzhB3FpDYE\n",
       "dG7olX3CsVdWw2HeR7Keq/0A9Asz/mugFw+EhLFH9TeGxsurTxjY/ymFwozxrYPgCLptAx7rz7R+\n",
       "uam3CWGHq0j6LmlTd0jQdod15Y/7wUFJl53I1wD83F0dXnRBkHDUBNYew7+p7cZ26/Q8W6IosM7l\n",
       "Ev3USTJMFvlaPs4rgsmiVbcfsTjEZZAHHm7psbxsCHuqOb4jvOQ8IbSC1vT6TpbvLVxuLHZiT7d3\n",
       "75iQtkNgt+ErTt6PC0NqG4zmaClpAJoKMVa/lvwzqrZQZESTbq3xG10e/kty/kcFhAr8iz1nHoWR\n",
       "6vkuuHHlGfT0BJL4QtV1R5kRapkLQ+Q+tXN5dmmAwh9Z1ABnhlroEBvWVZEvlLjH2WNieQofZHGW\n",
       "rmmeuCzLR3jhgVsV7pfvF+O9gg0zXsO0nNYN4LrCdr4ilPh2s/5z/SmZWSdveKLrCeJj9rDzWMsp\n",
       "tUPeueRG1ddXm4stXZbtiWhH3y2lvZNHX9H5jgiI8SXg1XbJc0wp0Lm/cwLsnEGUBJW0d0YhKYj3\n",
       "nEFvgL5D1aUv0pUGbxehmQBH21axU2axx/k5tIq8gW9izmTe5xtCMOzzyqsL7TIDmXUzZh+MIgQr\n",
       "3IWR2jWhTsdeWwwxOrOylytfCmoiSViPwDmxochtUN1NufEs7BfuN5x5XZyB1Hz6F9mc2ifGF5pY\n",
       "UtmLJY3v2DcgcOedl2tR+EMSPKRNe336q/Ned8YFw/tLnBV2KAHPepGBKoiZxDHWu/KAvAYx4Bw+\n",
       "Gv8+M8sdslGBnbZwHYkIx9AxAYKC3U1SZTU+YUw4B0bZ3S+xlZ3PAp2NZnfatQ8N9/txUq6FIuWa\n",
       "x0i5a5pBu+B8p/OpZaPOEOYnsZPK53/ZHiNTkwP6Q/zGmV23Pl96qtvW10rYNrbSa8NQRqPtP+o6\n",
       "RHywjbMEEvXiPlPBvHS3gfqFLqCiyGygKmyrA4VsqnJ+82tL7eP1shC044WtG9vkWbfRk03cZxPz\n",
       "OXFbIDxtPZXC4TRbAQgqbejmPSsjvwZ0XEvi9mWuhj2pA+t2rul0nIb55hf7pySgx4N8RUuqdAtM\n",
       "aqFLQomREyZ9MVTpEi9rma3weyKn/pg97/sv1Zy84hhn+i9JTS0wkWzi12ZGFua1N/anS+qHReof\n",
       "OnAauSEIyZSKsRr/4PWDRDVzLjOU9wxW0JG6X9qnP8f7FiQg42h2XByP3aqIhsmfuQmqMCSTSWU0\n",
       "9HXCGkjL7X//NdDLpf+6EyCs4hQCVPztlAXlCFr6MBmJ4/PInqxFVUkpyBJKAAhQYR/cUvmpwGk2\n",
       "cRtJb3vIMnDudI5gWu073Lz/rxr6RXSq4ufWIbJUab5R6x+/wAHdtZu/QyWh/j/TnUnI5zKbYGp6\n",
       "BEhJp4lYiGRGl45XCKtnd5+IdB31eX/RPi8Ul8AAtvrlfsHtGzcqmSBVdVHm69vvXEGrUDhXmgZZ\n",
       "oi6sDGP0Bfhi+H34ZI6i3/9RqBwqyPKwOggJnd7bs2T6L70l9m5z19VjqjGkG1cIKpdyd8iECHzY\n",
       "mdTuYN/3vo7DOEDnHKk0PJqBVpDaYRTRi+Ez4XBiET6PcKANO5Pwl419bFEUBA9wk5DKDR9s2wcT\n",
       "PBBM96V5ACmWEZScQ4Yruci8eu90LIpUnstoNCW69DEci3NUrRfjir64H8IS1fGzZ/knWwFp9MIT\n",
       "9RM2+zDTlpr8h/YIKepUlhHEsNpSUysmLTaz7wnEK59stJUZWoWroftL8Xw7+rdlrMuQ+nO62rhR\n",
       "/1I+QKQPfNUt8+RaBeRmH+bVKum7dZ9aS89th1zQir6XddSO4Dx8cS5/DHFvH40r//9gIA/dljHY\n",
       "BIgFEl1zuxDSoZPvz1t4NVupVmzdk06syxxWZwtc3dNdc5ZV+kuGht/m4l6TJrbvm5PfrFbt6WVR\n",
       "rQ7P/+b/oZNdlJKpq03iKcow53t5nlNkhO25fkeMsSTSN/jbfg2CCawAGA8wXVZ229RnYP4Hqu31\n",
       "NyUAJpo5A/AERSt/X49YSVjA6n3qZeFslah8cDxpZx1wCdLzY3cey+zmWZm8BXpt8eQUkPGKTbua\n",
       "d1eHpob26iVfK128wKsLQEO9+CMoSOMkLKcSoJJWkXy8+Q2sQ+R368rWvGLkWUB3Cik5pQwGk7L1\n",
       "p3BRCK7aZtFzXDH8Cx5YwE95Nuj7Pgb4coIFZCbwl4ao3Bj4FUY3BdX1057VqT0HlAVKfSK37PG3\n",
       "nAHWTLVF+YucrlHsEhZ3UdKYn7mVCcLbxv3rFJOK827U9ZJq0QLYbNltmD3X4pGUTaYzZPp+T4Fk\n",
       "yo2R2xbmADf87MaEiBGNciO+swGab8vOlo4lAGAugDql5yagnzqKBjmkArGCdWso9GTZ6zvXaFNi\n",
       "BeG/Pkt/nCxNmHGw0+U/QzyGg0F3W5KGx4iug1q70akhqTFqDWjpB6tfTnn7v88Mx5w6Fjfy65g/\n",
       "SX2fALXVtenwARzmUC9hAAADQkGaImxBT/7WjLAGnrp/wQsZeACc1+32ZQu33/8/4DcxRNQeLZM3\n",
       "lKHsNs7ib1e1k5b6AgSIdXq6wUDKjKGQPP0jbM2y/6teAaCFaBCUp+JkI/uMEsRVOWrIi2Wt/rzI\n",
       "nwxiApZHKgsbVY7pvJRkL+FVLEfJsFN8IS5yHtOYzg70VLkgBPaSvNiYe4UVhxkw5pCUUcOMIc1G\n",
       "uEWnF2Uo3GfPRQW7DVf+0dOE7GQkzsf+XTV4HOi7GIFUBjvd8S+UENyCopWsPdYwPivM0D7jNwIt\n",
       "CJKZ+dhH91GQHMfcsBZEJYdTnNtfUBm91WjSD0HMi4U2yskYYY87OFkV9RbASQHXlK/RRj4WsyVP\n",
       "N2BOa7D8JEFVuVIAfK730SBZr6nPZ9VUgQD+2L0b6EaoFeWi7T3VRa85DJ1D4XHie1bN596VJK1a\n",
       "oEwBIOvaDJd2kmMc0orSwAPCOZeXYWm9ojPbTDmqHPtRhLzwLZVTmfWjnvs0+3tsln4ilPjJxw+z\n",
       "cQ55XTRdKmgiBLy/F9bow8gwTZN88kygASkwXdCc/hSkaaLN9xA4aS1eYqRYN8nfpbUtmgPesr5w\n",
       "vMhekzaI7ODkgG4sK6l6q7lIuC2xrt+a2yxD86KgGtKlXyfuzW5k4r7QfoFmbo04FRwMCgafKdxT\n",
       "siDKHqX2uRkXgC0b+7cKXYT/QPGEU+nxN5QeUAdGoujGjxJwd2YZH+DJTDREk62+KxqkwwQWFjPU\n",
       "AC/UNHIqU4doJDHPo+tgyfWuY0yUmduwzD1oWQab3i90iH1SgSG37iltPLPnzCMyGtGSbUG3irls\n",
       "e6+y4Tu5HqLHyuRr2/IudPN0+cVBrPtyvihZOMYt7bS0T3FVB7u8mRmOq8Xo6+5K0nN1NXdM3FiI\n",
       "9UXgq3Ef84ql0ECdB552IMnlbHfyvKT1hMLqtZ0Ijq00DEJRjVjvSKqdnRnKeDkdMJfvWiMqf+0p\n",
       "qQsC+4HJHz+v9P7erH/aDUg4mwQxXQiG8oVidPKkUeKG0QFJwvqgZcdWquLy8sJ8LmhlI5xBo/0y\n",
       "JDOeLbyxQAYafYDuVkX5zzmnljvrcowicnA8YzWFd1dLDj02Tb0W+T/gBVUlFlbfdzm/yp5QmAAA\n",
       "AYUBnkF5BL8AC/KYxxy7IeACHUMvI4fy0C+z3TbnlEyaV2HumSeSBMfcendDJJbKvXGUbQEQlfTv\n",
       "JjcxU/kxSeFlvfqUWWpzbHmMB9Iq5d8BSBoNgGl5Spf0SmB3h90NFqsL4tUt8khKFN9agM9VI+Un\n",
       "0UNd480c5s1ECCuUPKJp1nlKNUsBRIFi5aYptbzIRNCstV9/iho6whZqRxftRGl7jqz4cf+Kob6f\n",
       "yz29iDLvUapM3edLIUT62kqdHHUueQdT/vBe/Q187G9ahCc9qOsTIVhXxgvqqK50VjZUX4iEssQd\n",
       "6yJw69szq3AujQ+vXDdIrUzisorEZ5yKeAPjyVd3ij+STdAVxeLCuVSMu7QlTO/tm6EaN+5oPFJb\n",
       "RdlfNcUzXSkLVDxwsWdZD4TofBWFTDWBkXRpd4EsuxgjdWiJBGstFdmyO/SeBM0WsWpuU1vaXLb+\n",
       "sPa1Z1KF1aEtkiiugVZXZFHWpL2/MwtKXfTyO8BIV9ZIYyiSAMYD4VF75B82GKWkOQAAAT5BmkM8\n",
       "IZMphBP//rUqgBY/pKV7X6d26fC1+uA2PM9oCVV/MrOo5Fg0AOElrorRm/PqDIqSDSMLbq3MM+Kq\n",
       "Av+SmZCXi6FMAAOmFRlaYHK6jQM/8h11r+clw489aOZri13/P0TFZZEghtJapxYOYHumErKLfRbX\n",
       "pdyWwD7lZcHgw2TACfi/7xTlpa/+w7EbI1BrD+x/8+4EMhnzqLVNqA/rFFj7yZ3hPs4nP4DxLyiz\n",
       "J+CuzZepHE9tsrdrRbEgo86CKNJRNX9U+X9qZHVhg6xpnfXiixgaHs+r07+VDvupalGfiNmDK/mF\n",
       "MNdysfAiV6zZ6iFq2MXzJx31xbtpNhDSGWtQr1VWA6GZnT2nshk/5bPO0Zody///HbqeLxFZVTA7\n",
       "DbESHG/0u9HSWrd5DIIVctAgpUKqqdGG7YLtBcAAAAGOQZpkSeEPJlMCCf/+tSqAFY+kpX+Xd7ly\n",
       "Lh9fDAAHS3dk6a9j6YTEgFq+x8Thu7l/QH2x725Y1LY1hf8DwpsqjLHGqEvHVdmpYardDrMBY6Q5\n",
       "izBWiEBJIYcnqJt5e99wiPh6xsHwNomy1r8uHxQw8R32lDyI6GCyHxmGSIS3+qgP0KBtTPaDVW4j\n",
       "GILK59Sn3lqngOOgvqMTz7WrYcJ0nLahlmLZGK8/KsRnfiqsCX9uRT8nDsqxjgT+UNv0sgHuDvfK\n",
       "GIwu0JbA6titmB5IONxkMD6ubHq6dFSyzlgfLjMRLlfJ3X5rEBR2p/OHFrn665zrqjQfLFACJdX7\n",
       "VV//w6sN5TGiE6zGv4JXyuXOg5DOSNBTrYdD5I2T1HfIFE2ubXQMaAlqZqFu9k2AiFf31u5kI5aP\n",
       "boBWwShouPaDIF8JhDcdPWxOTOVFQ7LV290rHXlYl9hiSQeKBYsP5AZN09QTbsHjDsjXz50A9KC8\n",
       "c9VQUKOTVQ2wE9JIjmcNFcfD4oNB2HY1Zw2Z6iYm70EAAAEbQZqFSeEPJlMCCX/+tSqAFN+dZVEt\n",
       "dwuY/InzRTZfDDo+dnx20PZUf58AJqNkYAshh0AxaBfx78VyOwjOZVOCAa7dnrLv8dqdxl9lzCvb\n",
       "oGTczUWyvJVFW+c2gqeawIMxJQhTHXPTn8hH0CHDgGMzSdivjWAk79Mo9I+gEGz8klwGFfh2jQhN\n",
       "oq4JEY49B7/UYQ5nRispDi5FNMjWMV41eUrRQ6neMCYH+Imqb/h1L2WkpWY1HiBMyKKhEUhdEn+t\n",
       "PNAD0sYhz9o7dutA1MXfFNK13JzBwQEnuA/Ph5wv/Vs34sv+PEXTHt4aR3y4E6t4+LRo9caxmxhw\n",
       "IuTA1/1aXqg8zWfYqunjw3GZaHxrkyo6qodKQ3aUxZtrgQAAA2Ztb292AAAAbG12aGQAAAAAAAAA\n",
       "AAAAAAAAAAPoAAAJYAABAAABAAAAAAAAAAAAAAAAAQAAAAAAAAAAAAAAAAAAAAEAAAAAAAAAAAAA\n",
       "AAAAAEAAAAAAAAAAAAAAAAAAAAAAAAAAAAAAAAAAAAAAAAACAAACkHRyYWsAAABcdGtoZAAAAAMA\n",
       "AAAAAAAAAAAAAAEAAAAAAAAJYAAAAAAAAAAAAAAAAAAAAAAAAQAAAAAAAAAAAAAAAAAAAAEAAAAA\n",
       "AAAAAAAAAAAAAEAAAAABsAAAASAAAAAAACRlZHRzAAAAHGVsc3QAAAAAAAAAAQAACWAAACAAAAEA\n",
       "AAAAAghtZGlhAAAAIG1kaGQAAAAAAAAAAAAAAAAAACgAAABgAFXEAAAAAAAtaGRscgAAAAAAAAAA\n",
       "dmlkZQAAAAAAAAAAAAAAAFZpZGVvSGFuZGxlcgAAAAGzbWluZgAAABR2bWhkAAAAAQAAAAAAAAAA\n",
       "AAAAJGRpbmYAAAAcZHJlZgAAAAAAAAABAAAADHVybCAAAAABAAABc3N0YmwAAACzc3RzZAAAAAAA\n",
       "AAABAAAAo2F2YzEAAAAAAAAAAQAAAAAAAAAAAAAAAAAAAAABsAEgAEgAAABIAAAAAAAAAAEAAAAA\n",
       "AAAAAAAAAAAAAAAAAAAAAAAAAAAAAAAAAAAAAAAY//8AAAAxYXZjQwFkABX/4QAYZ2QAFazZQbCW\n",
       "hAAAAwAIAAADACg8WLZYAQAGaOvjyyLAAAAAHHV1aWRraEDyXyRPxbo5pRvPAyPzAAAAAAAAABhz\n",
       "dHRzAAAAAAAAAAEAAAAGAAAQAAAAABRzdHNzAAAAAAAAAAEAAAABAAAAMGN0dHMAAAAAAAAABAAA\n",
       "AAEAACAAAAAAAQAAMAAAAAABAAAQAAAAAAMAACAAAAAAHHN0c2MAAAAAAAAAAQAAAAEAAAAGAAAA\n",
       "AQAAACxzdHN6AAAAAAAAAAAAAAAGAAAN6gAAA0YAAAGJAAABQgAAAZIAAAEfAAAAFHN0Y28AAAAA\n",
       "AAAAAQAAACwAAABidWR0YQAAAFptZXRhAAAAAAAAACFoZGxyAAAAAAAAAABtZGlyYXBwbAAAAAAA\n",
       "AAAAAAAAAC1pbHN0AAAAJal0b28AAAAdZGF0YQAAAAEAAAAATGF2ZjU4LjI5LjEwMA==\n",
       "\">\n",
       "  Your browser does not support the video tag.\n",
       "</video>"
      ],
      "text/plain": [
       "<IPython.core.display.HTML object>"
      ]
     },
     "execution_count": 7,
     "metadata": {},
     "output_type": "execute_result"
    }
   ],
   "source": [
    "HTML(anim.to_html5_video())"
   ]
  },
  {
   "cell_type": "code",
   "execution_count": null,
   "metadata": {},
   "outputs": [],
   "source": []
  }
 ],
 "metadata": {
  "kernelspec": {
   "display_name": "Python 3",
   "language": "python",
   "name": "python3"
  },
  "language_info": {
   "codemirror_mode": {
    "name": "ipython",
    "version": 3
   },
   "file_extension": ".py",
   "mimetype": "text/x-python",
   "name": "python",
   "nbconvert_exporter": "python",
   "pygments_lexer": "ipython3",
   "version": "3.5.2"
  }
 },
 "nbformat": 4,
 "nbformat_minor": 4
}
