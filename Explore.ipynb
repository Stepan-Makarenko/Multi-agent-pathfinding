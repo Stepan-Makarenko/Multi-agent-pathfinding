{
 "cells": [
  {
   "cell_type": "code",
   "execution_count": 1,
   "metadata": {},
   "outputs": [],
   "source": [
    "from visualization import draw\n",
    "from IPython.display import HTML\n",
    "from tqdm.notebook import tqdm"
   ]
  },
  {
   "cell_type": "code",
   "execution_count": 2,
   "metadata": {},
   "outputs": [],
   "source": [
    "from agent import Agent\n",
    "from high_level_policy import HCBS\n",
    "from map_handler import Map, read_map, read_tasks\n",
    "from node import GridNode\n",
    "from low_level_policy import manhattan_distance\n"
   ]
  },
  {
   "cell_type": "code",
   "execution_count": 22,
   "metadata": {},
   "outputs": [],
   "source": [
    "height = 15\n",
    "width = 30\n",
    "mapstr = '''\n",
    "# . . # \n",
    ". . . .  \n",
    ". . . . \n",
    "# . . # \n",
    "'''\n",
    "agent1 = Agent(0, 1, 3, 2)\n",
    "agent2 = Agent(1, 0, 2, 3)"
   ]
  },
  {
   "cell_type": "code",
   "execution_count": 23,
   "metadata": {},
   "outputs": [
    {
     "data": {
      "image/png": "[encoded data removed]",
      "text/plain": [
       "<Figure size 900x600 with 1 Axes>"
      ]
     },
     "metadata": {
      "needs_background": "light"
     },
     "output_type": "display_data"
    }
   ],
   "source": [
    "test_map = Map()\n",
    "test_map.read_from_string(mapstr, 4, 4)\n",
    "draw(test_map, [agent1, agent2])"
   ]
  },
  {
   "cell_type": "code",
   "execution_count": 24,
   "metadata": {},
   "outputs": [],
   "source": [
    "def test(SearchFunction, height, width, mapstr, agents, use_pc=False, diagonal_movements=False, draw_anim=False, **kwargs):\n",
    "    task_map = Map()\n",
    "    task_map.read_from_string(mapstr, width, height, diagonal_movements=diagonal_movements)\n",
    "\n",
    "    solution = SearchFunction(task_map, agents, use_pc, **kwargs)\n",
    "    if draw_anim:\n",
    "        anim = draw(task_map, agents, solution)\n",
    "        return solution, anim\n",
    "    return solution"
   ]
  },
  {
   "cell_type": "code",
   "execution_count": 25,
   "metadata": {},
   "outputs": [],
   "source": [
    "# def SimpleTest(SearchFunction, height, width, mapstr, agents, **kwargs):\n",
    "#     task_map = Map()\n",
    "#     task_map.read_from_string(mapstr, width, height, diagonal_movements=False)\n",
    "\n",
    "#     solution = SearchFunction(task_map, agents, **kwargs)\n",
    "#     anim = draw(task_map, agents, solution)\n",
    "#     return anim"
   ]
  },
  {
   "cell_type": "code",
   "execution_count": 26,
   "metadata": {},
   "outputs": [],
   "source": [
    "# def SimpleTestWithoutDrawing(SearchFunction, height, width, mapstr, agents, **kwargs):\n",
    "#     task_map = Map()\n",
    "#     task_map.read_from_string(mapstr, width, height, diagonal_movements=False)\n",
    "\n",
    "#     solution = SearchFunction(task_map, agents, **kwargs)\n",
    "#     return solution\n"
   ]
  },
  {
   "cell_type": "markdown",
   "metadata": {},
   "source": [
    "# Sanity check of conflict prioritization"
   ]
  },
  {
   "cell_type": "code",
   "execution_count": 27,
   "metadata": {},
   "outputs": [
    {
     "name": "stdout",
     "output_type": "stream",
     "text": [
      "Solution was found, cost =  9\n"
     ]
    },
    {
     "data": {
      "image/png": "[encoded data removed]",
      "text/plain": [
       "<Figure size 460x460 with 1 Axes>"
      ]
     },
     "metadata": {
      "needs_background": "light"
     },
     "output_type": "display_data"
    }
   ],
   "source": [
    "solution, anim = test(HCBS, 4, 4, mapstr, [agent1, agent2], heuristic_function=manhattan_distance, use_pc=True, draw_anim=True)"
   ]
  },
  {
   "cell_type": "code",
   "execution_count": 28,
   "metadata": {},
   "outputs": [
    {
     "data": {
      "text/html": [
       "<video width=\"460\" height=\"460\" controls autoplay loop>\n",
       "  <source type=\"video/mp4\" src=\"data:video/mp4;base64,AAAAIGZ0eXBNNFYgAAACAE00ViBpc29taXNvMmF2YzEAAAAIZnJlZQAADEltZGF0AAACoAYF//+c\n",
       "3EXpvebZSLeWLNgg2SPu73gyNjQgLSBjb3JlIDE2MSAtIEguMjY0L01QRUctNCBBVkMgY29kZWMg\n",
       "LSBDb3B5bGVmdCAyMDAzLTIwMjAgLSBodHRwOi8vd3d3LnZpZGVvbGFuLm9yZy94MjY0Lmh0bWwg\n",
       "LSBvcHRpb25zOiBjYWJhYz0xIHJlZj0zIGRlYmxvY2s9MTowOjAgYW5hbHlzZT0weDM6MHgxMTMg\n",
       "bWU9aGV4IHN1Ym1lPTcgcHN5PTEgcHN5X3JkPTEuMDA6MC4wMCBtaXhlZF9yZWY9MSBtZV9yYW5n\n",
       "ZT0xNiBjaHJvbWFfbWU9MSB0cmVsbGlzPTEgOHg4ZGN0PTEgY3FtPTAgZGVhZHpvbmU9MjEsMTEg\n",
       "ZmFzdF9wc2tpcD0xIGNocm9tYV9xcF9vZmZzZXQ9LTIgdGhyZWFkcz0xNCBsb29rYWhlYWRfdGhy\n",
       "ZWFkcz0yIHNsaWNlZF90aHJlYWRzPTAgbnI9MCBkZWNpbWF0ZT0xIGludGVybGFjZWQ9MCBibHVy\n",
       "YXlfY29tcGF0PTAgY29uc3RyYWluZWRfaW50cmE9MCBiZnJhbWVzPTMgYl9weXJhbWlkPTIgYl9h\n",
       "ZGFwdD0xIGJfYmlhcz0wIGRpcmVjdD0xIHdlaWdodGI9MSBvcGVuX2dvcD0wIHdlaWdodHA9MiBr\n",
       "ZXlpbnQ9MjUwIGtleWludF9taW49MiBzY2VuZWN1dD00MCBpbnRyYV9yZWZyZXNoPTAgcmNfbG9v\n",
       "a2FoZWFkPTQwIHJjPWNyZiBtYnRyZWU9MSBjcmY9MjMuMCBxY29tcD0wLjYwIHFwbWluPTAgcXBt\n",
       "YXg9NjkgcXBzdGVwPTQgaXBfcmF0aW89MS40MCBhcT0xOjEuMDAAgAAAAx9liIQAN//+7p++BTPK\n",
       "IeTcP1bVd0OpscaPdOe1AmoJtguv30SKmMhwtm6z7GRUZTlxN/lv8Q8mbcKekuBxA3+4W92CNme/\n",
       "7m1Sf+5ZNndlnwSvTstSr70vkjVOMCZ7A8op4NXQNOuDoLYzHA3huFNDSIZYMebMk0rWk4SUoqOI\n",
       "RlScoAomKLwQcARufCgcmWvSNKHKOabaQ5SrwpL3H6ovyzQrbBC8Au57gzrb64vRYU2Gf3MAMvxz\n",
       "bf9QvpUTTmA4Z4XUTzWNAdiVum7qaRhjp3QTlAoHlmc3LF73TGj84RRVxOocx48JPbohPSCwL51I\n",
       "7rDHvUK4fNxLQBcOm+66TpN7Dk4fcglyYW6zKa/qTLSgbRO+NHtf0ArXmNiuSTFeB/INkOeCv3Lx\n",
       "sfAIUAAa8tQCK8UgAA8wIjOEIq/hIRLnbLB/F/y1rF0whvNJguWrdmoAwv5346ojw9xcbSszpHQF\n",
       "mtA+z/NgSGlvt2hhoM8I410jBSedSrDDFxgNiVxSlTMqHdsgT8wAAvRfk/EyCsIBQCj+iNeU3wcr\n",
       "s/Bk/+Vv5KHxBzVYKbX03nY67RHc7WE+WDS2MEgSGLHXl05t/2kSjpLZf4JQUKjvS2cAw18hy03C\n",
       "BhzGiHY4hYlcLCNBe+RHPIAAaQj4tSJXs6t+lUNYj/0F89ASo195125TNBo1EedGPZ1cnQ7tZIwj\n",
       "jjZxcEnF5E0wWUQcICy/gemOHxW/whz1PjUhAyXDeo967FWVgT7ef5HEmtdcQSirtGQxkFHtwwgF\n",
       "OZdxWB8BaQ725IZ4V5XpTsODnfR/JsT92SfbrZgonTSW18+YtIk3xStXeFBWMTbRe7FaACObzteS\n",
       "JXNHtVxFHAj3J+upkIXUIpgoSP6coVfZxAqCYCpeRUYS00kuHN5JuuM4+01Lp9Wo2iemP7MWXYmK\n",
       "8E1z3GcHjiYG1vQmZ77S/sdseoF/G6JD15hIXie0wPdfenx1bTwA9xmtKCQ4JXq9bEvbCy7ntcKu\n",
       "7NxvuSt5lHpfC4TIr2mAYSPHUaYTgkX98jgSBoIJeFisOM+De8eALbm44bpJAAACX0GaIWxD//6l\n",
       "k2fm5lDQBDL8z1o4iklt1RuyzSDpQcfQySk7qqfVj8lckUAEqYOjgeqU/PH67wFjJ5U2Ixawqg+c\n",
       "z2fgrQcMU0b1rp74fPSPOU+3LGkISP/cLesZwASINwft4aIB9FgnomQR8G7V44vHctbyVg+BRpTD\n",
       "IbCX5XElA9ej9pntjujCvC/CwfFm1wUxxAlzCJZoHLzpLgFRoU52NfpCUQDj16cwWM1XCOW7xtBQ\n",
       "pXnpEsvaLmlZjUB12gOOmIY3yN2AKCnFJLDnSqej9DNxf+vBdZ/+5gAApcTMtcb8PPkundeDA6Fg\n",
       "p7/9gX/ABo8YPfzVTv3/5Gm2z654jnzOT2t34zxrDUMgQdp1BxSwe5npJ4Jb3PKymFt2YuN5Qzq9\n",
       "QmB4QVF/gK0HTC7ZVlOwzEkD1jzuWkDRji3NsHoMW+7fuah5vX+FWPbysC31PuTIJR1haSPLHJ2v\n",
       "rULxOYiPcpd1P87aIbaUw8QuM2eFjyiA27cUgIdvhPig2dKhIP2nv8EgaetmC9rt4YREIm/yxOmt\n",
       "hZLHVP61Bzi6WMker1F7MsAuVQ0ZBCVb5/j34jZ6s/ghCOOavUVC34z/fB+cJSM8yfTMJS6Iao6P\n",
       "aPPiR7926t8cbkk73A6k5Tp3xSCRTRCAlQuyVXyuWeSISiuV20yzbUlqixwL4UElp0b6NhmKsoNL\n",
       "q/fqcf/UkuzUGprcKHmayNr7VegLwhHNPIdqhM8bFGQeeOmvj96IuNNROOo9edP9KIlo8+W2qBje\n",
       "iVbhur4TDvWiGC4JC6cjV4cIcfyZq2OyAO4A/IAAAAGcQZpCPCGTKYQ///6pqLrdqDzEFx+HzGPr\n",
       "Ix8hXUnUdRSPkq2lgsUEq+qhnqqMJQgOkAAARcAim9R+opJKcd3rLMJuNSKv3PIN2wEAGKipj064\n",
       "eq36yaLnuFiU0zV8m3LG8fhZpQgdMx43V7mLfZBmtwlj6k6JZ3AJtPntHXEWxGq2zHgTh283d95M\n",
       "vVxN32ERwWeLnDQ5hC5zxYIX9gfcZB3x3BvBUWevEhLwD8jsTf5sfwzmzioVVx4RYA9DUFoZVe6e\n",
       "Y+/i77jQtwwkuIBAiqwUPox2ZoGxb08DyxXPVFyRHQvG9lDbtC6jNhmUZZ28rQh4Nf9kzVb3ttLy\n",
       "J9enVpoV286Z9glbV3p09r9jbEWhNrJYCk+yukcuAC3Pc9+GZRphZhbaVnOpaK7JPRkEcNww+Lpq\n",
       "Ign5UCZHHUrpgv5ohdG5cmtaRb+742vXwE1lGzO7qLcdKp85XcEKN+L3t9fZ/yrnahWOWpCeD43B\n",
       "yaxa++aRt7QRdnnv/EkDFHv1s3dEfLdNDBZBVitoPt9jqGdfm7HdiQtc5ABVwQAAANZBmmNJ4Q8m\n",
       "UwIf//6plgAEYO74AMozQuPxUxN67dGxWYPT6eKG9N/ahfAABRwBHATUk9afHVLfPNLJaySpmfaY\n",
       "gW3ilKlIjlg+/qOgmYFSn7DZXYOsvD3bR8FWzezi4uMJL24qcGhysFjdui+uv9dqpk3rPkSybXix\n",
       "Mm+JCdFrM0Fx4PBiZtuyIoLH5nphmnO2j7SKK5VIb+E2US7u9GP+QleymPR4wU4wrJ3FvyJSRccr\n",
       "HW8q1eFRXtwhSfFTMsyY1vgOZVP4OMTouxLdNwrDASfkI4b0AAAA/kGahEnhDyZTAh3//qmWAAAG\n",
       "M9uAlZdGZM67p6sYUdvSVRqjAkL0CS6+ZIVJc36TCon4NxULGjZOxm90YhZXMOFKUuz1Yx83qz0V\n",
       "yXlHeYPdWxPFHlfp+8bP16la8r9q+eZpRDRWNnZXYBEjcS9clyPirjHRXnHtQeC3lgbv2WhBMAAE\n",
       "k8pPyrgB4SHMEuAoDnUD5yP1+ciNjpShDTpC3O/ORsZ5b1ma5UQaQwRDOxaGvYrn4/mQnmUDUTQk\n",
       "Bhc33eorDX3unb1Rf1OTok/K19PhO91h1qPOhT2g5njYsCXMw3rFoyqCl02edtdVH5SVnTwN9p+S\n",
       "9RNcDa0Npe2BAAAAl0GapUnhDyZTAhv//qeEAAAKRzLtHN5Q6mX2/r/7JT/rGgGsQ8RZnLrhjytZ\n",
       "+TuV0OrbqkIAQvP4CH2keyb9McAAUO2ACcwBblwQtddCIJF0m0rbJtYncLz9/++X8IMjSBy/pQ0O\n",
       "dJFd0P2j7oHSlUq1V413RZW51n16R0y+UjAM6ltJQz4X0Ssq2XNJ0ZSANl/0itGWN6EAAANTbW9v\n",
       "dgAAAGxtdmhkAAAAAAAAAAAAAAAAAAAD6AAACWAAAQAAAQAAAAAAAAAAAAAAAAEAAAAAAAAAAAAA\n",
       "AAAAAAABAAAAAAAAAAAAAAAAAABAAAAAAAAAAAAAAAAAAAAAAAAAAAAAAAAAAAAAAAAAAgAAAn10\n",
       "cmFrAAAAXHRraGQAAAADAAAAAAAAAAAAAAABAAAAAAAACWAAAAAAAAAAAAAAAAAAAAAAAAEAAAAA\n",
       "AAAAAAAAAAAAAAABAAAAAAAAAAAAAAAAAABAAAAAAcwAAAHMAAAAAAAkZWR0cwAAABxlbHN0AAAA\n",
       "AAAAAAEAAAlgAAAgAAABAAAAAAH1bWRpYQAAACBtZGhkAAAAAAAAAAAAAAAAAAAoAAAAYABVxAAA\n",
       "AAAALWhkbHIAAAAAAAAAAHZpZGUAAAAAAAAAAAAAAABWaWRlb0hhbmRsZXIAAAABoG1pbmYAAAAU\n",
       "dm1oZAAAAAEAAAAAAAAAAAAAACRkaW5mAAAAHGRyZWYAAAAAAAAAAQAAAAx1cmwgAAAAAQAAAWBz\n",
       "dGJsAAAAuHN0c2QAAAAAAAAAAQAAAKhhdmMxAAAAAAAAAAEAAAAAAAAAAAAAAAAAAAAAAcwBzABI\n",
       "AAAASAAAAAAAAAABAAAAAAAAAAAAAAAAAAAAAAAAAAAAAAAAAAAAAAAAAAAAGP//AAAANmF2Y0MB\n",
       "ZAAW/+EAGWdkABas2UHQ77uEAAADAAgAAAMAKDxYtlgBAAZo6+PLIsD9+PgAAAAAHHV1aWRraEDy\n",
       "XyRPxbo5pRvPAyPzAAAAAAAAABhzdHRzAAAAAAAAAAEAAAAGAAAQAAAAABRzdHNzAAAAAAAAAAEA\n",
       "AAABAAAAGGN0dHMAAAAAAAAAAQAAAAYAACAAAAAAHHN0c2MAAAAAAAAAAQAAAAEAAAAGAAAAAQAA\n",
       "ACxzdHN6AAAAAAAAAAAAAAAGAAAFxwAAAmMAAAGgAAAA2gAAAQIAAACbAAAAFHN0Y28AAAAAAAAA\n",
       "AQAAADAAAABidWR0YQAAAFptZXRhAAAAAAAAACFoZGxyAAAAAAAAAABtZGlyYXBwbAAAAAAAAAAA\n",
       "AAAAAC1pbHN0AAAAJal0b28AAAAdZGF0YQAAAAEAAAAATGF2ZjU4LjQ1LjEwMA==\n",
       "\">\n",
       "  Your browser does not support the video tag.\n",
       "</video>"
      ],
      "text/plain": [
       "<IPython.core.display.HTML object>"
      ]
     },
     "execution_count": 28,
     "metadata": {},
     "output_type": "execute_result"
    }
   ],
   "source": [
    "HTML(anim.to_html5_video())"
   ]
  },
  {
   "cell_type": "code",
   "execution_count": 9,
   "metadata": {},
   "outputs": [],
   "source": [
    "mapstr = read_map('./brc202d.map/brc202d.map')\n",
    "num = 2\n",
    "tasks = read_tasks('./brc202d.map-scen-random/scen-random/brc202d-random-1.scen')[:num] # tasks is a list of lists\n",
    "Agent.id=0\n",
    "agents = []\n",
    "for i in range(num):\n",
    "    bucket, path, map_width, map_height, jStart, iStart, jGoal, iGoal, length = tasks[i]\n",
    "    agents += [Agent(iStart, jStart, iGoal, jGoal)]"
   ]
  },
  {
   "cell_type": "code",
   "execution_count": 10,
   "metadata": {},
   "outputs": [
    {
     "name": "stdout",
     "output_type": "stream",
     "text": [
      "Wall time: 15.8 s\n"
     ]
    }
   ],
   "source": [
    "%%time\n",
    "# 2 agents\n",
    "solution = test(HCBS, map_height, map_width, mapstr, agents, heuristic_function=manhattan_distance, use_pc=True)"
   ]
  },
  {
   "cell_type": "markdown",
   "metadata": {},
   "source": [
    "# Without conflict prioritization"
   ]
  },
  {
   "cell_type": "code",
   "execution_count": 11,
   "metadata": {},
   "outputs": [
    {
     "name": "stdout",
     "output_type": "stream",
     "text": [
      "Solution was found, cost =  9\n"
     ]
    },
    {
     "data": {
      "image/png": "[encoded data removed]",
      "text/plain": [
       "<Figure size 460x460 with 1 Axes>"
      ]
     },
     "metadata": {
      "needs_background": "light"
     },
     "output_type": "display_data"
    }
   ],
   "source": [
    "height = 15\n",
    "width = 30\n",
    "mapstr = '''\n",
    "# . . # \n",
    ". . . .  \n",
    ". . . . \n",
    "# . . # \n",
    "'''\n",
    "agent1 = Agent(0, 1, 3, 2)\n",
    "agent2 = Agent(1, 0, 2, 3)\n",
    "\n",
    "solution, anim = test(HCBS, 4, 4, mapstr, [agent1, agent2], heuristic_function=manhattan_distance, draw_anim=True)"
   ]
  },
  {
   "cell_type": "code",
   "execution_count": 12,
   "metadata": {},
   "outputs": [
    {
     "data": {
      "text/html": [
       "<video width=\"460\" height=\"460\" controls autoplay loop>\n",
       "  <source type=\"video/mp4\" src=\"data:video/mp4;base64,AAAAIGZ0eXBNNFYgAAACAE00ViBpc29taXNvMmF2YzEAAAAIZnJlZQAADWptZGF0AAACoAYF//+c\n",
       "3EXpvebZSLeWLNgg2SPu73gyNjQgLSBjb3JlIDE2MSAtIEguMjY0L01QRUctNCBBVkMgY29kZWMg\n",
       "LSBDb3B5bGVmdCAyMDAzLTIwMjAgLSBodHRwOi8vd3d3LnZpZGVvbGFuLm9yZy94MjY0Lmh0bWwg\n",
       "LSBvcHRpb25zOiBjYWJhYz0xIHJlZj0zIGRlYmxvY2s9MTowOjAgYW5hbHlzZT0weDM6MHgxMTMg\n",
       "bWU9aGV4IHN1Ym1lPTcgcHN5PTEgcHN5X3JkPTEuMDA6MC4wMCBtaXhlZF9yZWY9MSBtZV9yYW5n\n",
       "ZT0xNiBjaHJvbWFfbWU9MSB0cmVsbGlzPTEgOHg4ZGN0PTEgY3FtPTAgZGVhZHpvbmU9MjEsMTEg\n",
       "ZmFzdF9wc2tpcD0xIGNocm9tYV9xcF9vZmZzZXQ9LTIgdGhyZWFkcz0xNCBsb29rYWhlYWRfdGhy\n",
       "ZWFkcz0yIHNsaWNlZF90aHJlYWRzPTAgbnI9MCBkZWNpbWF0ZT0xIGludGVybGFjZWQ9MCBibHVy\n",
       "YXlfY29tcGF0PTAgY29uc3RyYWluZWRfaW50cmE9MCBiZnJhbWVzPTMgYl9weXJhbWlkPTIgYl9h\n",
       "ZGFwdD0xIGJfYmlhcz0wIGRpcmVjdD0xIHdlaWdodGI9MSBvcGVuX2dvcD0wIHdlaWdodHA9MiBr\n",
       "ZXlpbnQ9MjUwIGtleWludF9taW49MiBzY2VuZWN1dD00MCBpbnRyYV9yZWZyZXNoPTAgcmNfbG9v\n",
       "a2FoZWFkPTQwIHJjPWNyZiBtYnRyZWU9MSBjcmY9MjMuMCBxY29tcD0wLjYwIHFwbWluPTAgcXBt\n",
       "YXg9NjkgcXBzdGVwPTQgaXBfcmF0aW89MS40MCBhcT0xOjEuMDAAgAAAA1BliIQAN//+7p++BTPK\n",
       "IeTcP1bVd0OpscaPdOe1AmoJtgULXAJzys9MdRZrSVyO5/a5dJ4SiLyh/uDvxY+Pd66lefWMkdqK\n",
       "pAbWJgs1BU+XGC5vLRnQpVUR+130YChh1Pp40dWRqS7cjz5C/WPLMl8MfgrB07YKiHShyV/Kk51p\n",
       "SAADFlOVvEjSENzGtET/v6HJrOL53CQIWRjNCfANYH14WmOVHQyw5bEcD3ET6uMVz8ZLg4l8/1Id\n",
       "Xca9z/jdHkh0UjbUk71/E4zVg1JR+5tVFdd3sOOV4ywNi39rhArKep32VoK6CVSirZUZ9TAtNRkd\n",
       "2OgP/4EtQgomTHyVPFFhle8LnDAXkWSE0cyCZti0f8TAfBozdXBXZibvgPeo005QgMYGKuCagCNp\n",
       "cz79ObyPvLKfacjeMuk4fU6gJZrphdQZFXKQGx8/Hov9rgCU7gm4jWgOBSwMtba49xsihGnQR76m\n",
       "1C7liW60IdvDkEeL//b50uiCB8VIfXo8+SaEzB/evFCPHDrUpGegV3cw+AFw68IdsiHrb5GmLZkl\n",
       "KwQMkkA7DJK9FAKa+AKgtv9X3JQuPJg2T80ficppQ4ul8DemvAZpq7ui5Bqv+uKyiYCGRprRF5Yb\n",
       "Kyw2+IbmmTNvZxejMDRer1GKW0uxNvsJ7G54SyUyh0/w27fhjYTaKiHFQk2hSTMYAx867WZwrVIP\n",
       "mhUgUqFgIqvf1i7Vt+LcHrJhp9Phylzfb2S4uUrEaCeuK1kLsij8b5hY2iTMUFw9nvCNhdBWJNa4\n",
       "s9n8kVRALbBoAfdrBvopTTbJhRIGVRvuxfTvW37Ap3QENdmOTInChaWYOrC8n8bzDSeZDc10hrW7\n",
       "4ceMZOF1IufZ7hriRBEXqKNsk1lPrPVk5oIt5hRr+RBl8wpY9ZyUfvkxL18OuaDeppKxfFRhpdSe\n",
       "Q7lr9RAhG6HAknidpXM7xinJkrBqnus9YR+iaIZ3J+tWSE4nzsR70AAN37fsHUtzuppvgKRm5F9b\n",
       "Dd1EfH1CWjvzNQ2ECSSOV62Je1841J9bW0YnRrJggbhWng1qf/3MAmEmszd3vhrrXJlGhL7KGah3\n",
       "bS/FFg7DB/wziJRkg4aBIV7BQNdPDpFyX7pJRqBuaw1DVpTVZQAAAtpBmiFsQ//+pZNn5uZQ0AQt\n",
       "puad0ngZ17bV4vgL0RwbM4BS27L7i+2GzSDpQcfQySlV29AAwf/jgDE/vMXJq9asuh/H2wwuvGMC\n",
       "dGvp43cFuOOmmZMLe/lSLmiBSWHz1q4HbxDdvM9jmG0qeU21QgkVMwMDsJphayJkHfkrQWU1GLrT\n",
       "vcnLZGsbw739tUdZaSUaXo/TK0mT0Naox/9K8Xrmf12h3wjL3PhjVHQvohUOcNjBu3mXEZ6CIwiP\n",
       "ZAuNNHJYJ7LZkP3nCRuFhamVhwHoCQstUz9Gx+Yg5eEG3khCWTL1FkeZQgxZcntYY4jEZwo0XRfq\n",
       "RpC77CAssLiDfvDuQ7cZFlOwEq/RvnbG+hubiec4BKgfjFECmx1LK3aZuYGHDxWggITMiIuEJN+/\n",
       "+5oAC/Sep4kGxiq/Vp6zdIoYqh2o1h2p8Rb699JrlcGB5m7KkmqheIEuJtzoRqb/sSwviFQdpgnG\n",
       "tNgPudYYOncMsayrN4jk8nXLRQFy1w2VTUebiuTLOCdpl/AEVyPsCjknCth7EpJ/x7P2Id22+sov\n",
       "TV0l18l+G+EIY5qntD1EwGtjmzaCq17VhlayYTYE9TqQhY2Ff3t8h1I1a0x2HU4p6wrs7+pNpoec\n",
       "9w2bj//rMIFIYVTQvqRZtxgA8nuBMA4NWg/KKPU9w+pN7cvlMLzeC2jLRgnG79h5THEWgJgZ3kZI\n",
       "pe9Dx1Rs5MvQ/67wRdUlFaN9fYqh+4Tfa3VN6HbC492KEawN4+WZm+IDpsFWgPew2zSWjPsXibtG\n",
       "LkVs/RLdrVF+dCZIvayx9bq+20FVwE9kigGTwgECwfeBZdsYbzFvVQzotwuagtdzTM0zIicnbGOf\n",
       "INVotV6OPR9UeSpgGrcRKLY4AI/8ZT5VtXQu+1kqsDG2Sqs/h4CHa4hb1Sy1cX5Q2wH3Ipnq7FXn\n",
       "ROUyzMQdLzzLY1DU4OpcioaQDxvVjD3tL5gasp6AAAAB4kGaQjwhkymEP//+ob65xW4P422o5TyQ\n",
       "62Zi7qQWosJRQK6LMxcXJeQI7SYlGZU/N6Ohq1mAETE4HsAR0UbL21SJVvYgMwEgIKoFkcQA1xwA\n",
       "ACz/+oG6gxAAuf/ugNmGtrpDpIxfwleTi4qY9Q9UHoumD5Su9rzkYAl2mLBbnzFelYViYEe+b4Vm\n",
       "52+X8Bzjc+8MPflW0/QHa7B9UE4fJ/1r1z3GNQcl30UP/rKhJwzrQe3m5FJTp3t/mp82Ivi4Y7EY\n",
       "6yAIhZUnP5b/hjwzsQAg5L7tmQ3CQLvkdOgE/jzaZK8s2UGb79Xct3Jo90TDl3d+uKo6jLIldKLf\n",
       "LGWv6bfSgx+k7P/kZtubNfsWE2ZbRRuBuQL349dlNGctBDj5MhN87YaEE/p1lrOtIlnFu4NPJ9kI\n",
       "ruztRFfPlR6bj15f3f+0A9WYxMemZ92FRttz9L9EXYYFeut71OFV3BRyNLI6388RCHMAxVuHz12v\n",
       "7Xfy09z6/qXoNwR3DqNPxnRfXAVZmCXWIkatbNTyOwn09g3tSt6tRFfbZ2JRUW3Mq39gFxvhKbi4\n",
       "WfNEYpjplyfCRKMnGWt0NFssdQClxHxySiJu/7qIeXQS+TvHI9C2xsa97pXIzs0vvh5JehaAzbz9\n",
       "rA+ZAAABCkGaY0nhDyZTAh///qmWAARh5GDIA0EnzElgu1fr/0TPPW8iqxH7+gVxDMjqF4KCSx9V\n",
       "HoIAAZMAX8IaRmiYpch/7y4LEIGpbhsiIV3s4bIMbnHcNbLuUdrv9fu7NprDMDecG+G7t/aLvIgX\n",
       "mZtofS8UpKTdqRoXbxXsoKs0TWNHqdi8Vj2B5cqP+BNRfmEpiIeMaAe3TlBEVkiPkcLLgbu7mGGl\n",
       "Q0fgeKl8qOT6NlrfvL5ywxTkCpmhfCYkgs+AecPZ+yasEJkc3TMHaJSn2QXVO/ewdXR9m86wiflu\n",
       "ssw6v4bmAFccMVKaTPqWyOZqNWNZTQ0LcryYs4yeqFzJ37OnPIg4XWkBwoUUAAAA70GahEnhDyZT\n",
       "Ah3//qmWAAAGM9uAlZdGZM67p6sTm2fvWQIQ1lWuvuniD/Pdzg7yF1bE9KIGkh8CkGa/9jR/16kS\n",
       "yvYTaU2HAp73Qe1XDDvPdn+CxJUA+OvokgQXQHS34IFYAU0uInISco3z58SgRwLUALvZqdMhGiOJ\n",
       "EbmG/h/6Awa3bUir/zWnfDfoFsKjPgU3hSvqkXNQLA8wDx8Cme3C84Q1EjHFWIYntmF5+M5s6z7T\n",
       "JYDWXyhJBZoo7Sh3K7CyM++PX/hrzEwIwJfuuu8RttOQzAimShTgg1gb9LJnsATkFyiwu0QKNtlb\n",
       "3KDHAAAAoUGapUnhDyZTAhv//qeEAAAKRzLtHN5Q6mX2/sFwns9lUih0cH2sI8IFa3fJDfzOAICm\n",
       "lu+5nSAAwsAFnBNyYZNBb1PTL/UAOEIWRoZ7t5qjwPwVgcWP3xSAW+W4WKHgq2xbcYkG8M0IalTr\n",
       "fTRzu5L7f4e7fm915LvdBu9zSYpSidYayeEmjaIiw/bU7w2QC39bZAqqHmkJzFza5XtqlUuJAAAD\n",
       "U21vb3YAAABsbXZoZAAAAAAAAAAAAAAAAAAAA+gAAAlgAAEAAAEAAAAAAAAAAAAAAAABAAAAAAAA\n",
       "AAAAAAAAAAAAAQAAAAAAAAAAAAAAAAAAQAAAAAAAAAAAAAAAAAAAAAAAAAAAAAAAAAAAAAAAAAIA\n",
       "AAJ9dHJhawAAAFx0a2hkAAAAAwAAAAAAAAAAAAAAAQAAAAAAAAlgAAAAAAAAAAAAAAAAAAAAAAAB\n",
       "AAAAAAAAAAAAAAAAAAAAAQAAAAAAAAAAAAAAAAAAQAAAAAHMAAABzAAAAAAAJGVkdHMAAAAcZWxz\n",
       "dAAAAAAAAAABAAAJYAAAIAAAAQAAAAAB9W1kaWEAAAAgbWRoZAAAAAAAAAAAAAAAAAAAKAAAAGAA\n",
       "VcQAAAAAAC1oZGxyAAAAAAAAAAB2aWRlAAAAAAAAAAAAAAAAVmlkZW9IYW5kbGVyAAAAAaBtaW5m\n",
       "AAAAFHZtaGQAAAABAAAAAAAAAAAAAAAkZGluZgAAABxkcmVmAAAAAAAAAAEAAAAMdXJsIAAAAAEA\n",
       "AAFgc3RibAAAALhzdHNkAAAAAAAAAAEAAACoYXZjMQAAAAAAAAABAAAAAAAAAAAAAAAAAAAAAAHM\n",
       "AcwASAAAAEgAAAAAAAAAAQAAAAAAAAAAAAAAAAAAAAAAAAAAAAAAAAAAAAAAAAAAABj//wAAADZh\n",
       "dmNDAWQAFv/hABlnZAAWrNlB0O+7hAAAAwAIAAADACg8WLZYAQAGaOvjyyLA/fj4AAAAABx1dWlk\n",
       "a2hA8l8kT8W6OaUbzwMj8wAAAAAAAAAYc3R0cwAAAAAAAAABAAAABgAAEAAAAAAUc3RzcwAAAAAA\n",
       "AAABAAAAAQAAABhjdHRzAAAAAAAAAAEAAAAGAAAgAAAAABxzdHNjAAAAAAAAAAEAAAABAAAABgAA\n",
       "AAEAAAAsc3RzegAAAAAAAAAAAAAABgAABfgAAALeAAAB5gAAAQ4AAADzAAAApQAAABRzdGNvAAAA\n",
       "AAAAAAEAAAAwAAAAYnVkdGEAAABabWV0YQAAAAAAAAAhaGRscgAAAAAAAAAAbWRpcmFwcGwAAAAA\n",
       "AAAAAAAAAAAtaWxzdAAAACWpdG9vAAAAHWRhdGEAAAABAAAAAExhdmY1OC40NS4xMDA=\n",
       "\">\n",
       "  Your browser does not support the video tag.\n",
       "</video>"
      ],
      "text/plain": [
       "<IPython.core.display.HTML object>"
      ]
     },
     "execution_count": 12,
     "metadata": {},
     "output_type": "execute_result"
    }
   ],
   "source": [
    "HTML(anim.to_html5_video())"
   ]
  },
  {
   "cell_type": "code",
   "execution_count": 13,
   "metadata": {},
   "outputs": [],
   "source": [
    "mapstr = read_map('./brc202d.map/brc202d.map')"
   ]
  },
  {
   "cell_type": "code",
   "execution_count": 14,
   "metadata": {},
   "outputs": [],
   "source": [
    "num = 2 # number of agents"
   ]
  },
  {
   "cell_type": "code",
   "execution_count": 15,
   "metadata": {},
   "outputs": [],
   "source": [
    "tasks = read_tasks('./brc202d.map-scen-random/scen-random/brc202d-random-1.scen')[:num] # tasks is a list of lists"
   ]
  },
  {
   "cell_type": "code",
   "execution_count": 16,
   "metadata": {},
   "outputs": [],
   "source": [
    "Agent.id=0\n",
    "agents = []\n",
    "for i in range(num):\n",
    "    bucket, path, map_width, map_height, jStart, iStart, jGoal, iGoal, length = tasks[i]\n",
    "    agents += [Agent(iStart, jStart, iGoal, jGoal)]"
   ]
  },
  {
   "cell_type": "code",
   "execution_count": 17,
   "metadata": {},
   "outputs": [
    {
     "ename": "NameError",
     "evalue": "name 'SimpleTest' is not defined",
     "output_type": "error",
     "traceback": [
      "\u001b[1;31m---------------------------------------------------------------------------\u001b[0m",
      "\u001b[1;31mNameError\u001b[0m                                 Traceback (most recent call last)",
      "\u001b[1;32m<timed exec>\u001b[0m in \u001b[0;36m<module>\u001b[1;34m\u001b[0m\n",
      "\u001b[1;31mNameError\u001b[0m: name 'SimpleTest' is not defined"
     ]
    }
   ],
   "source": [
    "%%time\n",
    "# 2 agents\n",
    "anim = test(HCBS, map_height, map_width, mapstr, agents, heuristic_function=manhattan_distance)\n"
   ]
  },
  {
   "cell_type": "code",
   "execution_count": 18,
   "metadata": {},
   "outputs": [
    {
     "data": {
      "text/html": [
       "<video width=\"460\" height=\"460\" controls autoplay loop>\n",
       "  <source type=\"video/mp4\" src=\"data:video/mp4;base64,AAAAIGZ0eXBNNFYgAAACAE00ViBpc29taXNvMmF2YzEAAAAIZnJlZQAADWptZGF0AAACoAYF//+c\n",
       "3EXpvebZSLeWLNgg2SPu73gyNjQgLSBjb3JlIDE2MSAtIEguMjY0L01QRUctNCBBVkMgY29kZWMg\n",
       "LSBDb3B5bGVmdCAyMDAzLTIwMjAgLSBodHRwOi8vd3d3LnZpZGVvbGFuLm9yZy94MjY0Lmh0bWwg\n",
       "LSBvcHRpb25zOiBjYWJhYz0xIHJlZj0zIGRlYmxvY2s9MTowOjAgYW5hbHlzZT0weDM6MHgxMTMg\n",
       "bWU9aGV4IHN1Ym1lPTcgcHN5PTEgcHN5X3JkPTEuMDA6MC4wMCBtaXhlZF9yZWY9MSBtZV9yYW5n\n",
       "ZT0xNiBjaHJvbWFfbWU9MSB0cmVsbGlzPTEgOHg4ZGN0PTEgY3FtPTAgZGVhZHpvbmU9MjEsMTEg\n",
       "ZmFzdF9wc2tpcD0xIGNocm9tYV9xcF9vZmZzZXQ9LTIgdGhyZWFkcz0xNCBsb29rYWhlYWRfdGhy\n",
       "ZWFkcz0yIHNsaWNlZF90aHJlYWRzPTAgbnI9MCBkZWNpbWF0ZT0xIGludGVybGFjZWQ9MCBibHVy\n",
       "YXlfY29tcGF0PTAgY29uc3RyYWluZWRfaW50cmE9MCBiZnJhbWVzPTMgYl9weXJhbWlkPTIgYl9h\n",
       "ZGFwdD0xIGJfYmlhcz0wIGRpcmVjdD0xIHdlaWdodGI9MSBvcGVuX2dvcD0wIHdlaWdodHA9MiBr\n",
       "ZXlpbnQ9MjUwIGtleWludF9taW49MiBzY2VuZWN1dD00MCBpbnRyYV9yZWZyZXNoPTAgcmNfbG9v\n",
       "a2FoZWFkPTQwIHJjPWNyZiBtYnRyZWU9MSBjcmY9MjMuMCBxY29tcD0wLjYwIHFwbWluPTAgcXBt\n",
       "YXg9NjkgcXBzdGVwPTQgaXBfcmF0aW89MS40MCBhcT0xOjEuMDAAgAAAA1BliIQAN//+7p++BTPK\n",
       "IeTcP1bVd0OpscaPdOe1AmoJtgULXAJzys9MdRZrSVyO5/a5dJ4SiLyh/uDvxY+Pd66lefWMkdqK\n",
       "pAbWJgs1BU+XGC5vLRnQpVUR+130YChh1Pp40dWRqS7cjz5C/WPLMl8MfgrB07YKiHShyV/Kk51p\n",
       "SAADFlOVvEjSENzGtET/v6HJrOL53CQIWRjNCfANYH14WmOVHQyw5bEcD3ET6uMVz8ZLg4l8/1Id\n",
       "Xca9z/jdHkh0UjbUk71/E4zVg1JR+5tVFdd3sOOV4ywNi39rhArKep32VoK6CVSirZUZ9TAtNRkd\n",
       "2OgP/4EtQgomTHyVPFFhle8LnDAXkWSE0cyCZti0f8TAfBozdXBXZibvgPeo005QgMYGKuCagCNp\n",
       "cz79ObyPvLKfacjeMuk4fU6gJZrphdQZFXKQGx8/Hov9rgCU7gm4jWgOBSwMtba49xsihGnQR76m\n",
       "1C7liW60IdvDkEeL//b50uiCB8VIfXo8+SaEzB/evFCPHDrUpGegV3cw+AFw68IdsiHrb5GmLZkl\n",
       "KwQMkkA7DJK9FAKa+AKgtv9X3JQuPJg2T80ficppQ4ul8DemvAZpq7ui5Bqv+uKyiYCGRprRF5Yb\n",
       "Kyw2+IbmmTNvZxejMDRer1GKW0uxNvsJ7G54SyUyh0/w27fhjYTaKiHFQk2hSTMYAx867WZwrVIP\n",
       "mhUgUqFgIqvf1i7Vt+LcHrJhp9Phylzfb2S4uUrEaCeuK1kLsij8b5hY2iTMUFw9nvCNhdBWJNa4\n",
       "s9n8kVRALbBoAfdrBvopTTbJhRIGVRvuxfTvW37Ap3QENdmOTInChaWYOrC8n8bzDSeZDc10hrW7\n",
       "4ceMZOF1IufZ7hriRBEXqKNsk1lPrPVk5oIt5hRr+RBl8wpY9ZyUfvkxL18OuaDeppKxfFRhpdSe\n",
       "Q7lr9RAhG6HAknidpXM7xinJkrBqnus9YR+iaIZ3J+tWSE4nzsR70AAN37fsHUtzuppvgKRm5F9b\n",
       "Dd1EfH1CWjvzNQ2ECSSOV62Je1841J9bW0YnRrJggbhWng1qf/3MAmEmszd3vhrrXJlGhL7KGah3\n",
       "bS/FFg7DB/wziJRkg4aBIV7BQNdPDpFyX7pJRqBuaw1DVpTVZQAAAtpBmiFsQ//+pZNn5uZQ0AQt\n",
       "puad0ngZ17bV4vgL0RwbM4BS27L7i+2GzSDpQcfQySlV29AAwf/jgDE/vMXJq9asuh/H2wwuvGMC\n",
       "dGvp43cFuOOmmZMLe/lSLmiBSWHz1q4HbxDdvM9jmG0qeU21QgkVMwMDsJphayJkHfkrQWU1GLrT\n",
       "vcnLZGsbw739tUdZaSUaXo/TK0mT0Naox/9K8Xrmf12h3wjL3PhjVHQvohUOcNjBu3mXEZ6CIwiP\n",
       "ZAuNNHJYJ7LZkP3nCRuFhamVhwHoCQstUz9Gx+Yg5eEG3khCWTL1FkeZQgxZcntYY4jEZwo0XRfq\n",
       "RpC77CAssLiDfvDuQ7cZFlOwEq/RvnbG+hubiec4BKgfjFECmx1LK3aZuYGHDxWggITMiIuEJN+/\n",
       "+5oAC/Sep4kGxiq/Vp6zdIoYqh2o1h2p8Rb699JrlcGB5m7KkmqheIEuJtzoRqb/sSwviFQdpgnG\n",
       "tNgPudYYOncMsayrN4jk8nXLRQFy1w2VTUebiuTLOCdpl/AEVyPsCjknCth7EpJ/x7P2Id22+sov\n",
       "TV0l18l+G+EIY5qntD1EwGtjmzaCq17VhlayYTYE9TqQhY2Ff3t8h1I1a0x2HU4p6wrs7+pNpoec\n",
       "9w2bj//rMIFIYVTQvqRZtxgA8nuBMA4NWg/KKPU9w+pN7cvlMLzeC2jLRgnG79h5THEWgJgZ3kZI\n",
       "pe9Dx1Rs5MvQ/67wRdUlFaN9fYqh+4Tfa3VN6HbC492KEawN4+WZm+IDpsFWgPew2zSWjPsXibtG\n",
       "LkVs/RLdrVF+dCZIvayx9bq+20FVwE9kigGTwgECwfeBZdsYbzFvVQzotwuagtdzTM0zIicnbGOf\n",
       "INVotV6OPR9UeSpgGrcRKLY4AI/8ZT5VtXQu+1kqsDG2Sqs/h4CHa4hb1Sy1cX5Q2wH3Ipnq7FXn\n",
       "ROUyzMQdLzzLY1DU4OpcioaQDxvVjD3tL5gasp6AAAAB4kGaQjwhkymEP//+ob65xW4P422o5TyQ\n",
       "62Zi7qQWosJRQK6LMxcXJeQI7SYlGZU/N6Ohq1mAETE4HsAR0UbL21SJVvYgMwEgIKoFkcQA1xwA\n",
       "ACz/+oG6gxAAuf/ugNmGtrpDpIxfwleTi4qY9Q9UHoumD5Su9rzkYAl2mLBbnzFelYViYEe+b4Vm\n",
       "52+X8Bzjc+8MPflW0/QHa7B9UE4fJ/1r1z3GNQcl30UP/rKhJwzrQe3m5FJTp3t/mp82Ivi4Y7EY\n",
       "6yAIhZUnP5b/hjwzsQAg5L7tmQ3CQLvkdOgE/jzaZK8s2UGb79Xct3Jo90TDl3d+uKo6jLIldKLf\n",
       "LGWv6bfSgx+k7P/kZtubNfsWE2ZbRRuBuQL349dlNGctBDj5MhN87YaEE/p1lrOtIlnFu4NPJ9kI\n",
       "ruztRFfPlR6bj15f3f+0A9WYxMemZ92FRttz9L9EXYYFeut71OFV3BRyNLI6388RCHMAxVuHz12v\n",
       "7Xfy09z6/qXoNwR3DqNPxnRfXAVZmCXWIkatbNTyOwn09g3tSt6tRFfbZ2JRUW3Mq39gFxvhKbi4\n",
       "WfNEYpjplyfCRKMnGWt0NFssdQClxHxySiJu/7qIeXQS+TvHI9C2xsa97pXIzs0vvh5JehaAzbz9\n",
       "rA+ZAAABCkGaY0nhDyZTAh///qmWAARh5GDIA0EnzElgu1fr/0TPPW8iqxH7+gVxDMjqF4KCSx9V\n",
       "HoIAAZMAX8IaRmiYpch/7y4LEIGpbhsiIV3s4bIMbnHcNbLuUdrv9fu7NprDMDecG+G7t/aLvIgX\n",
       "mZtofS8UpKTdqRoXbxXsoKs0TWNHqdi8Vj2B5cqP+BNRfmEpiIeMaAe3TlBEVkiPkcLLgbu7mGGl\n",
       "Q0fgeKl8qOT6NlrfvL5ywxTkCpmhfCYkgs+AecPZ+yasEJkc3TMHaJSn2QXVO/ewdXR9m86wiflu\n",
       "ssw6v4bmAFccMVKaTPqWyOZqNWNZTQ0LcryYs4yeqFzJ37OnPIg4XWkBwoUUAAAA70GahEnhDyZT\n",
       "Ah3//qmWAAAGM9uAlZdGZM67p6sTm2fvWQIQ1lWuvuniD/Pdzg7yF1bE9KIGkh8CkGa/9jR/16kS\n",
       "yvYTaU2HAp73Qe1XDDvPdn+CxJUA+OvokgQXQHS34IFYAU0uInISco3z58SgRwLUALvZqdMhGiOJ\n",
       "EbmG/h/6Awa3bUir/zWnfDfoFsKjPgU3hSvqkXNQLA8wDx8Cme3C84Q1EjHFWIYntmF5+M5s6z7T\n",
       "JYDWXyhJBZoo7Sh3K7CyM++PX/hrzEwIwJfuuu8RttOQzAimShTgg1gb9LJnsATkFyiwu0QKNtlb\n",
       "3KDHAAAAoUGapUnhDyZTAhv//qeEAAAKRzLtHN5Q6mX2/sFwns9lUih0cH2sI8IFa3fJDfzOAICm\n",
       "lu+5nSAAwsAFnBNyYZNBb1PTL/UAOEIWRoZ7t5qjwPwVgcWP3xSAW+W4WKHgq2xbcYkG8M0IalTr\n",
       "fTRzu5L7f4e7fm915LvdBu9zSYpSidYayeEmjaIiw/bU7w2QC39bZAqqHmkJzFza5XtqlUuJAAAD\n",
       "U21vb3YAAABsbXZoZAAAAAAAAAAAAAAAAAAAA+gAAAlgAAEAAAEAAAAAAAAAAAAAAAABAAAAAAAA\n",
       "AAAAAAAAAAAAAQAAAAAAAAAAAAAAAAAAQAAAAAAAAAAAAAAAAAAAAAAAAAAAAAAAAAAAAAAAAAIA\n",
       "AAJ9dHJhawAAAFx0a2hkAAAAAwAAAAAAAAAAAAAAAQAAAAAAAAlgAAAAAAAAAAAAAAAAAAAAAAAB\n",
       "AAAAAAAAAAAAAAAAAAAAAQAAAAAAAAAAAAAAAAAAQAAAAAHMAAABzAAAAAAAJGVkdHMAAAAcZWxz\n",
       "dAAAAAAAAAABAAAJYAAAIAAAAQAAAAAB9W1kaWEAAAAgbWRoZAAAAAAAAAAAAAAAAAAAKAAAAGAA\n",
       "VcQAAAAAAC1oZGxyAAAAAAAAAAB2aWRlAAAAAAAAAAAAAAAAVmlkZW9IYW5kbGVyAAAAAaBtaW5m\n",
       "AAAAFHZtaGQAAAABAAAAAAAAAAAAAAAkZGluZgAAABxkcmVmAAAAAAAAAAEAAAAMdXJsIAAAAAEA\n",
       "AAFgc3RibAAAALhzdHNkAAAAAAAAAAEAAACoYXZjMQAAAAAAAAABAAAAAAAAAAAAAAAAAAAAAAHM\n",
       "AcwASAAAAEgAAAAAAAAAAQAAAAAAAAAAAAAAAAAAAAAAAAAAAAAAAAAAAAAAAAAAABj//wAAADZh\n",
       "dmNDAWQAFv/hABlnZAAWrNlB0O+7hAAAAwAIAAADACg8WLZYAQAGaOvjyyLA/fj4AAAAABx1dWlk\n",
       "a2hA8l8kT8W6OaUbzwMj8wAAAAAAAAAYc3R0cwAAAAAAAAABAAAABgAAEAAAAAAUc3RzcwAAAAAA\n",
       "AAABAAAAAQAAABhjdHRzAAAAAAAAAAEAAAAGAAAgAAAAABxzdHNjAAAAAAAAAAEAAAABAAAABgAA\n",
       "AAEAAAAsc3RzegAAAAAAAAAAAAAABgAABfgAAALeAAAB5gAAAQ4AAADzAAAApQAAABRzdGNvAAAA\n",
       "AAAAAAEAAAAwAAAAYnVkdGEAAABabWV0YQAAAAAAAAAhaGRscgAAAAAAAAAAbWRpcmFwcGwAAAAA\n",
       "AAAAAAAAAAAtaWxzdAAAACWpdG9vAAAAHWRhdGEAAAABAAAAAExhdmY1OC40NS4xMDA=\n",
       "\">\n",
       "  Your browser does not support the video tag.\n",
       "</video>"
      ],
      "text/plain": [
       "<IPython.core.display.HTML object>"
      ]
     },
     "execution_count": 18,
     "metadata": {},
     "output_type": "execute_result"
    }
   ],
   "source": [
    "HTML(anim.to_html5_video())"
   ]
  },
  {
   "cell_type": "code",
   "execution_count": 21,
   "metadata": {},
   "outputs": [
    {
     "name": "stdout",
     "output_type": "stream",
     "text": [
      "Wall time: 15.7 s\n"
     ]
    }
   ],
   "source": [
    "%%time\n",
    "# 2 agents\n",
    "solution = test(HCBS, map_height, map_width, mapstr, agents, heuristic_function=manhattan_distance)"
   ]
  },
  {
   "cell_type": "code",
   "execution_count": 20,
   "metadata": {},
   "outputs": [
    {
     "data": {
      "text/plain": [
       "9"
      ]
     },
     "execution_count": 20,
     "metadata": {},
     "output_type": "execute_result"
    }
   ],
   "source": [
    "sum([el[1] for el in solution.values()])"
   ]
  }
 ],
 "metadata": {
  "kernelspec": {
   "display_name": "Python 3",
   "language": "python",
   "name": "python3"
  },
  "language_info": {
   "codemirror_mode": {
    "name": "ipython",
    "version": 3
   },
   "file_extension": ".py",
   "mimetype": "text/x-python",
   "name": "python",
   "nbconvert_exporter": "python",
   "pygments_lexer": "ipython3",
   "version": "3.7.6"
  }
 },
 "nbformat": 4,
 "nbformat_minor": 4
}
